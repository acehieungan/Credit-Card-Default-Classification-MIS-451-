{
  "cells": [
    {
      "cell_type": "markdown",
      "metadata": {
        "id": "BTQ5GXBkvGlt"
      },
      "source": [
        "# **Import the library and dataset**"
      ]
    },
    {
      "cell_type": "code",
      "execution_count": null,
      "metadata": {
        "id": "dyrhV8Ol3rzH"
      },
      "outputs": [],
      "source": [
        "import pandas as pd"
      ]
    },
    {
      "cell_type": "code",
      "execution_count": null,
      "metadata": {
        "colab": {
          "base_uri": "https://localhost:8080/",
          "height": 307
        },
        "id": "ZXCdccqBNrp0",
        "outputId": "fd6010e5-aa8c-4835-ad1c-49933eff8bec"
      },
      "outputs": [
        {
          "output_type": "execute_result",
          "data": {
            "text/plain": [
              "   ID  LIMIT_BAL  SEX  EDUCATION  MARRIAGE  AGE  PAY_0  PAY_2  PAY_3  PAY_4  \\\n",
              "0   1      20000    2          2         1   24      2      2     -1     -1   \n",
              "1   2     120000    2          2         2   26     -1      2      0      0   \n",
              "2   3      90000    2          2         2   34      0      0      0      0   \n",
              "3   4      50000    2          2         1   37      0      0      0      0   \n",
              "4   5      50000    1          2         1   57     -1      0     -1      0   \n",
              "\n",
              "   ...  BILL_AMT4  BILL_AMT5  BILL_AMT6  PAY_AMT1  PAY_AMT2  PAY_AMT3  \\\n",
              "0  ...          0          0          0         0       689         0   \n",
              "1  ...       3272       3455       3261         0      1000      1000   \n",
              "2  ...      14331      14948      15549      1518      1500      1000   \n",
              "3  ...      28314      28959      29547      2000      2019      1200   \n",
              "4  ...      20940      19146      19131      2000     36681     10000   \n",
              "\n",
              "   PAY_AMT4  PAY_AMT5  PAY_AMT6  default payment next month  \n",
              "0         0         0         0                           1  \n",
              "1      1000         0      2000                           1  \n",
              "2      1000      1000      5000                           0  \n",
              "3      1100      1069      1000                           0  \n",
              "4      9000       689       679                           0  \n",
              "\n",
              "[5 rows x 25 columns]"
            ],
            "text/html": [
              "\n",
              "  <div id=\"df-0854fbff-91ff-483d-abad-c7b71e59c6f9\" class=\"colab-df-container\">\n",
              "    <div>\n",
              "<style scoped>\n",
              "    .dataframe tbody tr th:only-of-type {\n",
              "        vertical-align: middle;\n",
              "    }\n",
              "\n",
              "    .dataframe tbody tr th {\n",
              "        vertical-align: top;\n",
              "    }\n",
              "\n",
              "    .dataframe thead th {\n",
              "        text-align: right;\n",
              "    }\n",
              "</style>\n",
              "<table border=\"1\" class=\"dataframe\">\n",
              "  <thead>\n",
              "    <tr style=\"text-align: right;\">\n",
              "      <th></th>\n",
              "      <th>ID</th>\n",
              "      <th>LIMIT_BAL</th>\n",
              "      <th>SEX</th>\n",
              "      <th>EDUCATION</th>\n",
              "      <th>MARRIAGE</th>\n",
              "      <th>AGE</th>\n",
              "      <th>PAY_0</th>\n",
              "      <th>PAY_2</th>\n",
              "      <th>PAY_3</th>\n",
              "      <th>PAY_4</th>\n",
              "      <th>...</th>\n",
              "      <th>BILL_AMT4</th>\n",
              "      <th>BILL_AMT5</th>\n",
              "      <th>BILL_AMT6</th>\n",
              "      <th>PAY_AMT1</th>\n",
              "      <th>PAY_AMT2</th>\n",
              "      <th>PAY_AMT3</th>\n",
              "      <th>PAY_AMT4</th>\n",
              "      <th>PAY_AMT5</th>\n",
              "      <th>PAY_AMT6</th>\n",
              "      <th>default payment next month</th>\n",
              "    </tr>\n",
              "  </thead>\n",
              "  <tbody>\n",
              "    <tr>\n",
              "      <th>0</th>\n",
              "      <td>1</td>\n",
              "      <td>20000</td>\n",
              "      <td>2</td>\n",
              "      <td>2</td>\n",
              "      <td>1</td>\n",
              "      <td>24</td>\n",
              "      <td>2</td>\n",
              "      <td>2</td>\n",
              "      <td>-1</td>\n",
              "      <td>-1</td>\n",
              "      <td>...</td>\n",
              "      <td>0</td>\n",
              "      <td>0</td>\n",
              "      <td>0</td>\n",
              "      <td>0</td>\n",
              "      <td>689</td>\n",
              "      <td>0</td>\n",
              "      <td>0</td>\n",
              "      <td>0</td>\n",
              "      <td>0</td>\n",
              "      <td>1</td>\n",
              "    </tr>\n",
              "    <tr>\n",
              "      <th>1</th>\n",
              "      <td>2</td>\n",
              "      <td>120000</td>\n",
              "      <td>2</td>\n",
              "      <td>2</td>\n",
              "      <td>2</td>\n",
              "      <td>26</td>\n",
              "      <td>-1</td>\n",
              "      <td>2</td>\n",
              "      <td>0</td>\n",
              "      <td>0</td>\n",
              "      <td>...</td>\n",
              "      <td>3272</td>\n",
              "      <td>3455</td>\n",
              "      <td>3261</td>\n",
              "      <td>0</td>\n",
              "      <td>1000</td>\n",
              "      <td>1000</td>\n",
              "      <td>1000</td>\n",
              "      <td>0</td>\n",
              "      <td>2000</td>\n",
              "      <td>1</td>\n",
              "    </tr>\n",
              "    <tr>\n",
              "      <th>2</th>\n",
              "      <td>3</td>\n",
              "      <td>90000</td>\n",
              "      <td>2</td>\n",
              "      <td>2</td>\n",
              "      <td>2</td>\n",
              "      <td>34</td>\n",
              "      <td>0</td>\n",
              "      <td>0</td>\n",
              "      <td>0</td>\n",
              "      <td>0</td>\n",
              "      <td>...</td>\n",
              "      <td>14331</td>\n",
              "      <td>14948</td>\n",
              "      <td>15549</td>\n",
              "      <td>1518</td>\n",
              "      <td>1500</td>\n",
              "      <td>1000</td>\n",
              "      <td>1000</td>\n",
              "      <td>1000</td>\n",
              "      <td>5000</td>\n",
              "      <td>0</td>\n",
              "    </tr>\n",
              "    <tr>\n",
              "      <th>3</th>\n",
              "      <td>4</td>\n",
              "      <td>50000</td>\n",
              "      <td>2</td>\n",
              "      <td>2</td>\n",
              "      <td>1</td>\n",
              "      <td>37</td>\n",
              "      <td>0</td>\n",
              "      <td>0</td>\n",
              "      <td>0</td>\n",
              "      <td>0</td>\n",
              "      <td>...</td>\n",
              "      <td>28314</td>\n",
              "      <td>28959</td>\n",
              "      <td>29547</td>\n",
              "      <td>2000</td>\n",
              "      <td>2019</td>\n",
              "      <td>1200</td>\n",
              "      <td>1100</td>\n",
              "      <td>1069</td>\n",
              "      <td>1000</td>\n",
              "      <td>0</td>\n",
              "    </tr>\n",
              "    <tr>\n",
              "      <th>4</th>\n",
              "      <td>5</td>\n",
              "      <td>50000</td>\n",
              "      <td>1</td>\n",
              "      <td>2</td>\n",
              "      <td>1</td>\n",
              "      <td>57</td>\n",
              "      <td>-1</td>\n",
              "      <td>0</td>\n",
              "      <td>-1</td>\n",
              "      <td>0</td>\n",
              "      <td>...</td>\n",
              "      <td>20940</td>\n",
              "      <td>19146</td>\n",
              "      <td>19131</td>\n",
              "      <td>2000</td>\n",
              "      <td>36681</td>\n",
              "      <td>10000</td>\n",
              "      <td>9000</td>\n",
              "      <td>689</td>\n",
              "      <td>679</td>\n",
              "      <td>0</td>\n",
              "    </tr>\n",
              "  </tbody>\n",
              "</table>\n",
              "<p>5 rows × 25 columns</p>\n",
              "</div>\n",
              "    <div class=\"colab-df-buttons\">\n",
              "\n",
              "  <div class=\"colab-df-container\">\n",
              "    <button class=\"colab-df-convert\" onclick=\"convertToInteractive('df-0854fbff-91ff-483d-abad-c7b71e59c6f9')\"\n",
              "            title=\"Convert this dataframe to an interactive table.\"\n",
              "            style=\"display:none;\">\n",
              "\n",
              "  <svg xmlns=\"http://www.w3.org/2000/svg\" height=\"24px\" viewBox=\"0 -960 960 960\">\n",
              "    <path d=\"M120-120v-720h720v720H120Zm60-500h600v-160H180v160Zm220 220h160v-160H400v160Zm0 220h160v-160H400v160ZM180-400h160v-160H180v160Zm440 0h160v-160H620v160ZM180-180h160v-160H180v160Zm440 0h160v-160H620v160Z\"/>\n",
              "  </svg>\n",
              "    </button>\n",
              "\n",
              "  <style>\n",
              "    .colab-df-container {\n",
              "      display:flex;\n",
              "      gap: 12px;\n",
              "    }\n",
              "\n",
              "    .colab-df-convert {\n",
              "      background-color: #E8F0FE;\n",
              "      border: none;\n",
              "      border-radius: 50%;\n",
              "      cursor: pointer;\n",
              "      display: none;\n",
              "      fill: #1967D2;\n",
              "      height: 32px;\n",
              "      padding: 0 0 0 0;\n",
              "      width: 32px;\n",
              "    }\n",
              "\n",
              "    .colab-df-convert:hover {\n",
              "      background-color: #E2EBFA;\n",
              "      box-shadow: 0px 1px 2px rgba(60, 64, 67, 0.3), 0px 1px 3px 1px rgba(60, 64, 67, 0.15);\n",
              "      fill: #174EA6;\n",
              "    }\n",
              "\n",
              "    .colab-df-buttons div {\n",
              "      margin-bottom: 4px;\n",
              "    }\n",
              "\n",
              "    [theme=dark] .colab-df-convert {\n",
              "      background-color: #3B4455;\n",
              "      fill: #D2E3FC;\n",
              "    }\n",
              "\n",
              "    [theme=dark] .colab-df-convert:hover {\n",
              "      background-color: #434B5C;\n",
              "      box-shadow: 0px 1px 3px 1px rgba(0, 0, 0, 0.15);\n",
              "      filter: drop-shadow(0px 1px 2px rgba(0, 0, 0, 0.3));\n",
              "      fill: #FFFFFF;\n",
              "    }\n",
              "  </style>\n",
              "\n",
              "    <script>\n",
              "      const buttonEl =\n",
              "        document.querySelector('#df-0854fbff-91ff-483d-abad-c7b71e59c6f9 button.colab-df-convert');\n",
              "      buttonEl.style.display =\n",
              "        google.colab.kernel.accessAllowed ? 'block' : 'none';\n",
              "\n",
              "      async function convertToInteractive(key) {\n",
              "        const element = document.querySelector('#df-0854fbff-91ff-483d-abad-c7b71e59c6f9');\n",
              "        const dataTable =\n",
              "          await google.colab.kernel.invokeFunction('convertToInteractive',\n",
              "                                                    [key], {});\n",
              "        if (!dataTable) return;\n",
              "\n",
              "        const docLinkHtml = 'Like what you see? Visit the ' +\n",
              "          '<a target=\"_blank\" href=https://colab.research.google.com/notebooks/data_table.ipynb>data table notebook</a>'\n",
              "          + ' to learn more about interactive tables.';\n",
              "        element.innerHTML = '';\n",
              "        dataTable['output_type'] = 'display_data';\n",
              "        await google.colab.output.renderOutput(dataTable, element);\n",
              "        const docLink = document.createElement('div');\n",
              "        docLink.innerHTML = docLinkHtml;\n",
              "        element.appendChild(docLink);\n",
              "      }\n",
              "    </script>\n",
              "  </div>\n",
              "\n",
              "\n",
              "    <div id=\"df-5ae97187-d905-49fa-a0d2-fa02daee392a\">\n",
              "      <button class=\"colab-df-quickchart\" onclick=\"quickchart('df-5ae97187-d905-49fa-a0d2-fa02daee392a')\"\n",
              "                title=\"Suggest charts\"\n",
              "                style=\"display:none;\">\n",
              "\n",
              "<svg xmlns=\"http://www.w3.org/2000/svg\" height=\"24px\"viewBox=\"0 0 24 24\"\n",
              "     width=\"24px\">\n",
              "    <g>\n",
              "        <path d=\"M19 3H5c-1.1 0-2 .9-2 2v14c0 1.1.9 2 2 2h14c1.1 0 2-.9 2-2V5c0-1.1-.9-2-2-2zM9 17H7v-7h2v7zm4 0h-2V7h2v10zm4 0h-2v-4h2v4z\"/>\n",
              "    </g>\n",
              "</svg>\n",
              "      </button>\n",
              "\n",
              "<style>\n",
              "  .colab-df-quickchart {\n",
              "      --bg-color: #E8F0FE;\n",
              "      --fill-color: #1967D2;\n",
              "      --hover-bg-color: #E2EBFA;\n",
              "      --hover-fill-color: #174EA6;\n",
              "      --disabled-fill-color: #AAA;\n",
              "      --disabled-bg-color: #DDD;\n",
              "  }\n",
              "\n",
              "  [theme=dark] .colab-df-quickchart {\n",
              "      --bg-color: #3B4455;\n",
              "      --fill-color: #D2E3FC;\n",
              "      --hover-bg-color: #434B5C;\n",
              "      --hover-fill-color: #FFFFFF;\n",
              "      --disabled-bg-color: #3B4455;\n",
              "      --disabled-fill-color: #666;\n",
              "  }\n",
              "\n",
              "  .colab-df-quickchart {\n",
              "    background-color: var(--bg-color);\n",
              "    border: none;\n",
              "    border-radius: 50%;\n",
              "    cursor: pointer;\n",
              "    display: none;\n",
              "    fill: var(--fill-color);\n",
              "    height: 32px;\n",
              "    padding: 0;\n",
              "    width: 32px;\n",
              "  }\n",
              "\n",
              "  .colab-df-quickchart:hover {\n",
              "    background-color: var(--hover-bg-color);\n",
              "    box-shadow: 0 1px 2px rgba(60, 64, 67, 0.3), 0 1px 3px 1px rgba(60, 64, 67, 0.15);\n",
              "    fill: var(--button-hover-fill-color);\n",
              "  }\n",
              "\n",
              "  .colab-df-quickchart-complete:disabled,\n",
              "  .colab-df-quickchart-complete:disabled:hover {\n",
              "    background-color: var(--disabled-bg-color);\n",
              "    fill: var(--disabled-fill-color);\n",
              "    box-shadow: none;\n",
              "  }\n",
              "\n",
              "  .colab-df-spinner {\n",
              "    border: 2px solid var(--fill-color);\n",
              "    border-color: transparent;\n",
              "    border-bottom-color: var(--fill-color);\n",
              "    animation:\n",
              "      spin 1s steps(1) infinite;\n",
              "  }\n",
              "\n",
              "  @keyframes spin {\n",
              "    0% {\n",
              "      border-color: transparent;\n",
              "      border-bottom-color: var(--fill-color);\n",
              "      border-left-color: var(--fill-color);\n",
              "    }\n",
              "    20% {\n",
              "      border-color: transparent;\n",
              "      border-left-color: var(--fill-color);\n",
              "      border-top-color: var(--fill-color);\n",
              "    }\n",
              "    30% {\n",
              "      border-color: transparent;\n",
              "      border-left-color: var(--fill-color);\n",
              "      border-top-color: var(--fill-color);\n",
              "      border-right-color: var(--fill-color);\n",
              "    }\n",
              "    40% {\n",
              "      border-color: transparent;\n",
              "      border-right-color: var(--fill-color);\n",
              "      border-top-color: var(--fill-color);\n",
              "    }\n",
              "    60% {\n",
              "      border-color: transparent;\n",
              "      border-right-color: var(--fill-color);\n",
              "    }\n",
              "    80% {\n",
              "      border-color: transparent;\n",
              "      border-right-color: var(--fill-color);\n",
              "      border-bottom-color: var(--fill-color);\n",
              "    }\n",
              "    90% {\n",
              "      border-color: transparent;\n",
              "      border-bottom-color: var(--fill-color);\n",
              "    }\n",
              "  }\n",
              "</style>\n",
              "\n",
              "      <script>\n",
              "        async function quickchart(key) {\n",
              "          const quickchartButtonEl =\n",
              "            document.querySelector('#' + key + ' button');\n",
              "          quickchartButtonEl.disabled = true;  // To prevent multiple clicks.\n",
              "          quickchartButtonEl.classList.add('colab-df-spinner');\n",
              "          try {\n",
              "            const charts = await google.colab.kernel.invokeFunction(\n",
              "                'suggestCharts', [key], {});\n",
              "          } catch (error) {\n",
              "            console.error('Error during call to suggestCharts:', error);\n",
              "          }\n",
              "          quickchartButtonEl.classList.remove('colab-df-spinner');\n",
              "          quickchartButtonEl.classList.add('colab-df-quickchart-complete');\n",
              "        }\n",
              "        (() => {\n",
              "          let quickchartButtonEl =\n",
              "            document.querySelector('#df-5ae97187-d905-49fa-a0d2-fa02daee392a button');\n",
              "          quickchartButtonEl.style.display =\n",
              "            google.colab.kernel.accessAllowed ? 'block' : 'none';\n",
              "        })();\n",
              "      </script>\n",
              "    </div>\n",
              "\n",
              "    </div>\n",
              "  </div>\n"
            ],
            "application/vnd.google.colaboratory.intrinsic+json": {
              "type": "dataframe",
              "variable_name": "data_bank"
            }
          },
          "metadata": {},
          "execution_count": 2
        }
      ],
      "source": [
        "# Import the Dataset\n",
        "data_bank = pd.read_excel('/content/default of credit card clients.xls', skiprows=1)\n",
        "\n",
        "# The first 5 rows\n",
        "data_bank.head()"
      ]
    },
    {
      "cell_type": "markdown",
      "metadata": {
        "id": "mR8SHClTvtLW"
      },
      "source": [
        "# **Exploring Data Analysis**"
      ]
    },
    {
      "cell_type": "markdown",
      "source": [
        "1. Data Overview"
      ],
      "metadata": {
        "id": "_eYAIDDyu6Qa"
      }
    },
    {
      "cell_type": "code",
      "execution_count": null,
      "metadata": {
        "colab": {
          "base_uri": "https://localhost:8080/"
        },
        "id": "zNUJ60yqOFB-",
        "outputId": "42dc4f76-81ff-4ae5-82a9-97e7e268d4f3"
      },
      "outputs": [
        {
          "output_type": "execute_result",
          "data": {
            "text/plain": [
              "(30000, 25)"
            ]
          },
          "metadata": {},
          "execution_count": 3
        }
      ],
      "source": [
        "data_bank.shape"
      ]
    },
    {
      "cell_type": "code",
      "execution_count": null,
      "metadata": {
        "colab": {
          "base_uri": "https://localhost:8080/"
        },
        "id": "aNT5MROeQOeX",
        "outputId": "0ed63695-f624-44ec-8391-2b82e786cc72"
      },
      "outputs": [
        {
          "output_type": "stream",
          "name": "stdout",
          "text": [
            "<class 'pandas.core.frame.DataFrame'>\n",
            "RangeIndex: 30000 entries, 0 to 29999\n",
            "Data columns (total 25 columns):\n",
            " #   Column                      Non-Null Count  Dtype\n",
            "---  ------                      --------------  -----\n",
            " 0   ID                          30000 non-null  int64\n",
            " 1   LIMIT_BAL                   30000 non-null  int64\n",
            " 2   SEX                         30000 non-null  int64\n",
            " 3   EDUCATION                   30000 non-null  int64\n",
            " 4   MARRIAGE                    30000 non-null  int64\n",
            " 5   AGE                         30000 non-null  int64\n",
            " 6   PAY_0                       30000 non-null  int64\n",
            " 7   PAY_2                       30000 non-null  int64\n",
            " 8   PAY_3                       30000 non-null  int64\n",
            " 9   PAY_4                       30000 non-null  int64\n",
            " 10  PAY_5                       30000 non-null  int64\n",
            " 11  PAY_6                       30000 non-null  int64\n",
            " 12  BILL_AMT1                   30000 non-null  int64\n",
            " 13  BILL_AMT2                   30000 non-null  int64\n",
            " 14  BILL_AMT3                   30000 non-null  int64\n",
            " 15  BILL_AMT4                   30000 non-null  int64\n",
            " 16  BILL_AMT5                   30000 non-null  int64\n",
            " 17  BILL_AMT6                   30000 non-null  int64\n",
            " 18  PAY_AMT1                    30000 non-null  int64\n",
            " 19  PAY_AMT2                    30000 non-null  int64\n",
            " 20  PAY_AMT3                    30000 non-null  int64\n",
            " 21  PAY_AMT4                    30000 non-null  int64\n",
            " 22  PAY_AMT5                    30000 non-null  int64\n",
            " 23  PAY_AMT6                    30000 non-null  int64\n",
            " 24  default payment next month  30000 non-null  int64\n",
            "dtypes: int64(25)\n",
            "memory usage: 5.7 MB\n"
          ]
        }
      ],
      "source": [
        "data_bank.info()"
      ]
    },
    {
      "cell_type": "code",
      "execution_count": null,
      "metadata": {
        "colab": {
          "base_uri": "https://localhost:8080/",
          "height": 868
        },
        "id": "pVmHu8MsQRN7",
        "outputId": "9b43c2cc-c91c-4ef7-e5a0-3147345e808a"
      },
      "outputs": [
        {
          "output_type": "execute_result",
          "data": {
            "text/plain": [
              "ID                            int64\n",
              "LIMIT_BAL                     int64\n",
              "SEX                           int64\n",
              "EDUCATION                     int64\n",
              "MARRIAGE                      int64\n",
              "AGE                           int64\n",
              "PAY_0                         int64\n",
              "PAY_2                         int64\n",
              "PAY_3                         int64\n",
              "PAY_4                         int64\n",
              "PAY_5                         int64\n",
              "PAY_6                         int64\n",
              "BILL_AMT1                     int64\n",
              "BILL_AMT2                     int64\n",
              "BILL_AMT3                     int64\n",
              "BILL_AMT4                     int64\n",
              "BILL_AMT5                     int64\n",
              "BILL_AMT6                     int64\n",
              "PAY_AMT1                      int64\n",
              "PAY_AMT2                      int64\n",
              "PAY_AMT3                      int64\n",
              "PAY_AMT4                      int64\n",
              "PAY_AMT5                      int64\n",
              "PAY_AMT6                      int64\n",
              "default payment next month    int64\n",
              "dtype: object"
            ],
            "text/html": [
              "<div>\n",
              "<style scoped>\n",
              "    .dataframe tbody tr th:only-of-type {\n",
              "        vertical-align: middle;\n",
              "    }\n",
              "\n",
              "    .dataframe tbody tr th {\n",
              "        vertical-align: top;\n",
              "    }\n",
              "\n",
              "    .dataframe thead th {\n",
              "        text-align: right;\n",
              "    }\n",
              "</style>\n",
              "<table border=\"1\" class=\"dataframe\">\n",
              "  <thead>\n",
              "    <tr style=\"text-align: right;\">\n",
              "      <th></th>\n",
              "      <th>0</th>\n",
              "    </tr>\n",
              "  </thead>\n",
              "  <tbody>\n",
              "    <tr>\n",
              "      <th>ID</th>\n",
              "      <td>int64</td>\n",
              "    </tr>\n",
              "    <tr>\n",
              "      <th>LIMIT_BAL</th>\n",
              "      <td>int64</td>\n",
              "    </tr>\n",
              "    <tr>\n",
              "      <th>SEX</th>\n",
              "      <td>int64</td>\n",
              "    </tr>\n",
              "    <tr>\n",
              "      <th>EDUCATION</th>\n",
              "      <td>int64</td>\n",
              "    </tr>\n",
              "    <tr>\n",
              "      <th>MARRIAGE</th>\n",
              "      <td>int64</td>\n",
              "    </tr>\n",
              "    <tr>\n",
              "      <th>AGE</th>\n",
              "      <td>int64</td>\n",
              "    </tr>\n",
              "    <tr>\n",
              "      <th>PAY_0</th>\n",
              "      <td>int64</td>\n",
              "    </tr>\n",
              "    <tr>\n",
              "      <th>PAY_2</th>\n",
              "      <td>int64</td>\n",
              "    </tr>\n",
              "    <tr>\n",
              "      <th>PAY_3</th>\n",
              "      <td>int64</td>\n",
              "    </tr>\n",
              "    <tr>\n",
              "      <th>PAY_4</th>\n",
              "      <td>int64</td>\n",
              "    </tr>\n",
              "    <tr>\n",
              "      <th>PAY_5</th>\n",
              "      <td>int64</td>\n",
              "    </tr>\n",
              "    <tr>\n",
              "      <th>PAY_6</th>\n",
              "      <td>int64</td>\n",
              "    </tr>\n",
              "    <tr>\n",
              "      <th>BILL_AMT1</th>\n",
              "      <td>int64</td>\n",
              "    </tr>\n",
              "    <tr>\n",
              "      <th>BILL_AMT2</th>\n",
              "      <td>int64</td>\n",
              "    </tr>\n",
              "    <tr>\n",
              "      <th>BILL_AMT3</th>\n",
              "      <td>int64</td>\n",
              "    </tr>\n",
              "    <tr>\n",
              "      <th>BILL_AMT4</th>\n",
              "      <td>int64</td>\n",
              "    </tr>\n",
              "    <tr>\n",
              "      <th>BILL_AMT5</th>\n",
              "      <td>int64</td>\n",
              "    </tr>\n",
              "    <tr>\n",
              "      <th>BILL_AMT6</th>\n",
              "      <td>int64</td>\n",
              "    </tr>\n",
              "    <tr>\n",
              "      <th>PAY_AMT1</th>\n",
              "      <td>int64</td>\n",
              "    </tr>\n",
              "    <tr>\n",
              "      <th>PAY_AMT2</th>\n",
              "      <td>int64</td>\n",
              "    </tr>\n",
              "    <tr>\n",
              "      <th>PAY_AMT3</th>\n",
              "      <td>int64</td>\n",
              "    </tr>\n",
              "    <tr>\n",
              "      <th>PAY_AMT4</th>\n",
              "      <td>int64</td>\n",
              "    </tr>\n",
              "    <tr>\n",
              "      <th>PAY_AMT5</th>\n",
              "      <td>int64</td>\n",
              "    </tr>\n",
              "    <tr>\n",
              "      <th>PAY_AMT6</th>\n",
              "      <td>int64</td>\n",
              "    </tr>\n",
              "    <tr>\n",
              "      <th>default payment next month</th>\n",
              "      <td>int64</td>\n",
              "    </tr>\n",
              "  </tbody>\n",
              "</table>\n",
              "</div><br><label><b>dtype:</b> object</label>"
            ]
          },
          "metadata": {},
          "execution_count": 5
        }
      ],
      "source": [
        "data_bank.dtypes"
      ]
    },
    {
      "cell_type": "code",
      "execution_count": null,
      "metadata": {
        "colab": {
          "base_uri": "https://localhost:8080/",
          "height": 868
        },
        "id": "GHzqBdDpQae9",
        "outputId": "34577915-fd34-45b6-b03b-2008aff8dd38"
      },
      "outputs": [
        {
          "output_type": "execute_result",
          "data": {
            "text/plain": [
              "ID                            0\n",
              "LIMIT_BAL                     0\n",
              "SEX                           0\n",
              "EDUCATION                     0\n",
              "MARRIAGE                      0\n",
              "AGE                           0\n",
              "PAY_0                         0\n",
              "PAY_2                         0\n",
              "PAY_3                         0\n",
              "PAY_4                         0\n",
              "PAY_5                         0\n",
              "PAY_6                         0\n",
              "BILL_AMT1                     0\n",
              "BILL_AMT2                     0\n",
              "BILL_AMT3                     0\n",
              "BILL_AMT4                     0\n",
              "BILL_AMT5                     0\n",
              "BILL_AMT6                     0\n",
              "PAY_AMT1                      0\n",
              "PAY_AMT2                      0\n",
              "PAY_AMT3                      0\n",
              "PAY_AMT4                      0\n",
              "PAY_AMT5                      0\n",
              "PAY_AMT6                      0\n",
              "default payment next month    0\n",
              "dtype: int64"
            ],
            "text/html": [
              "<div>\n",
              "<style scoped>\n",
              "    .dataframe tbody tr th:only-of-type {\n",
              "        vertical-align: middle;\n",
              "    }\n",
              "\n",
              "    .dataframe tbody tr th {\n",
              "        vertical-align: top;\n",
              "    }\n",
              "\n",
              "    .dataframe thead th {\n",
              "        text-align: right;\n",
              "    }\n",
              "</style>\n",
              "<table border=\"1\" class=\"dataframe\">\n",
              "  <thead>\n",
              "    <tr style=\"text-align: right;\">\n",
              "      <th></th>\n",
              "      <th>0</th>\n",
              "    </tr>\n",
              "  </thead>\n",
              "  <tbody>\n",
              "    <tr>\n",
              "      <th>ID</th>\n",
              "      <td>0</td>\n",
              "    </tr>\n",
              "    <tr>\n",
              "      <th>LIMIT_BAL</th>\n",
              "      <td>0</td>\n",
              "    </tr>\n",
              "    <tr>\n",
              "      <th>SEX</th>\n",
              "      <td>0</td>\n",
              "    </tr>\n",
              "    <tr>\n",
              "      <th>EDUCATION</th>\n",
              "      <td>0</td>\n",
              "    </tr>\n",
              "    <tr>\n",
              "      <th>MARRIAGE</th>\n",
              "      <td>0</td>\n",
              "    </tr>\n",
              "    <tr>\n",
              "      <th>AGE</th>\n",
              "      <td>0</td>\n",
              "    </tr>\n",
              "    <tr>\n",
              "      <th>PAY_0</th>\n",
              "      <td>0</td>\n",
              "    </tr>\n",
              "    <tr>\n",
              "      <th>PAY_2</th>\n",
              "      <td>0</td>\n",
              "    </tr>\n",
              "    <tr>\n",
              "      <th>PAY_3</th>\n",
              "      <td>0</td>\n",
              "    </tr>\n",
              "    <tr>\n",
              "      <th>PAY_4</th>\n",
              "      <td>0</td>\n",
              "    </tr>\n",
              "    <tr>\n",
              "      <th>PAY_5</th>\n",
              "      <td>0</td>\n",
              "    </tr>\n",
              "    <tr>\n",
              "      <th>PAY_6</th>\n",
              "      <td>0</td>\n",
              "    </tr>\n",
              "    <tr>\n",
              "      <th>BILL_AMT1</th>\n",
              "      <td>0</td>\n",
              "    </tr>\n",
              "    <tr>\n",
              "      <th>BILL_AMT2</th>\n",
              "      <td>0</td>\n",
              "    </tr>\n",
              "    <tr>\n",
              "      <th>BILL_AMT3</th>\n",
              "      <td>0</td>\n",
              "    </tr>\n",
              "    <tr>\n",
              "      <th>BILL_AMT4</th>\n",
              "      <td>0</td>\n",
              "    </tr>\n",
              "    <tr>\n",
              "      <th>BILL_AMT5</th>\n",
              "      <td>0</td>\n",
              "    </tr>\n",
              "    <tr>\n",
              "      <th>BILL_AMT6</th>\n",
              "      <td>0</td>\n",
              "    </tr>\n",
              "    <tr>\n",
              "      <th>PAY_AMT1</th>\n",
              "      <td>0</td>\n",
              "    </tr>\n",
              "    <tr>\n",
              "      <th>PAY_AMT2</th>\n",
              "      <td>0</td>\n",
              "    </tr>\n",
              "    <tr>\n",
              "      <th>PAY_AMT3</th>\n",
              "      <td>0</td>\n",
              "    </tr>\n",
              "    <tr>\n",
              "      <th>PAY_AMT4</th>\n",
              "      <td>0</td>\n",
              "    </tr>\n",
              "    <tr>\n",
              "      <th>PAY_AMT5</th>\n",
              "      <td>0</td>\n",
              "    </tr>\n",
              "    <tr>\n",
              "      <th>PAY_AMT6</th>\n",
              "      <td>0</td>\n",
              "    </tr>\n",
              "    <tr>\n",
              "      <th>default payment next month</th>\n",
              "      <td>0</td>\n",
              "    </tr>\n",
              "  </tbody>\n",
              "</table>\n",
              "</div><br><label><b>dtype:</b> int64</label>"
            ]
          },
          "metadata": {},
          "execution_count": 6
        }
      ],
      "source": [
        "data_bank.isnull().sum()"
      ]
    },
    {
      "cell_type": "code",
      "execution_count": null,
      "metadata": {
        "colab": {
          "base_uri": "https://localhost:8080/"
        },
        "id": "qX3wi2iRQeMP",
        "outputId": "a64d0499-8ba9-47db-da56-1a52eb40a7ec"
      },
      "outputs": [
        {
          "output_type": "execute_result",
          "data": {
            "text/plain": [
              "np.int64(0)"
            ]
          },
          "metadata": {},
          "execution_count": 7
        }
      ],
      "source": [
        "data_bank.duplicated().sum()"
      ]
    },
    {
      "cell_type": "markdown",
      "source": [
        "1. Dataset Size:\n",
        "The dataset contains 30,000 records (rows) and 25 variables (columns).\n",
        "\n",
        "2. Columns and Data Types:\n",
        "All columns have the data type int64, meaning all variables are integers without missing values.\n",
        "\n",
        "3. Key Features:\n",
        "\n",
        "- ID: Unique identifier for each client.\n",
        "\n",
        "- LIMIT_BAL: Credit limit of the client.\n",
        "\n",
        "- SEX, EDUCATION, MARRIAGE, AGE: Demographic information.\n",
        "\n",
        "- PAY_0 to PAY_6: Payment status for last 6 months, indicating on-time or delayed payments.\n",
        "\n",
        "- BILL_AMT1 to BILL_AMT6: Bill amounts for the last 6 months.\n",
        "\n",
        "- PAY_AMT1 to PAY_AMT6: Payment amounts for the last 6 months.\n",
        "\n",
        "- default payment next month: Target variable indicating if the client defaulted (1) or not (0) in the next month.\n",
        "\n",
        "4. No Missing Values:\n",
        "All columns have 30,000 non-null values, confirming no missing data.\n",
        "\n",
        "5. Memory Usage:\n",
        "The dataset occupies approximately 5.7 MB of memory.\n",
        "\n",
        "6. There are no duplicate records in the dataset."
      ],
      "metadata": {
        "id": "_BL_6w51vRwK"
      }
    },
    {
      "cell_type": "code",
      "execution_count": null,
      "metadata": {
        "colab": {
          "base_uri": "https://localhost:8080/",
          "height": 384
        },
        "id": "7y0O8mcaXJ1g",
        "outputId": "6866fa75-b43b-4759-a141-43709b07f4eb"
      },
      "outputs": [
        {
          "output_type": "execute_result",
          "data": {
            "text/plain": [
              "                 ID       LIMIT_BAL           SEX     EDUCATION      MARRIAGE  \\\n",
              "count  30000.000000    30000.000000  30000.000000  30000.000000  30000.000000   \n",
              "mean   15000.500000   167484.322667      1.603733      1.853133      1.551867   \n",
              "std     8660.398374   129747.661567      0.489129      0.790349      0.521970   \n",
              "min        1.000000    10000.000000      1.000000      0.000000      0.000000   \n",
              "25%     7500.750000    50000.000000      1.000000      1.000000      1.000000   \n",
              "50%    15000.500000   140000.000000      2.000000      2.000000      2.000000   \n",
              "75%    22500.250000   240000.000000      2.000000      2.000000      2.000000   \n",
              "max    30000.000000  1000000.000000      2.000000      6.000000      3.000000   \n",
              "\n",
              "                AGE         PAY_0         PAY_2         PAY_3         PAY_4  \\\n",
              "count  30000.000000  30000.000000  30000.000000  30000.000000  30000.000000   \n",
              "mean      35.485500     -0.016700     -0.133767     -0.166200     -0.220667   \n",
              "std        9.217904      1.123802      1.197186      1.196868      1.169139   \n",
              "min       21.000000     -2.000000     -2.000000     -2.000000     -2.000000   \n",
              "25%       28.000000     -1.000000     -1.000000     -1.000000     -1.000000   \n",
              "50%       34.000000      0.000000      0.000000      0.000000      0.000000   \n",
              "75%       41.000000      0.000000      0.000000      0.000000      0.000000   \n",
              "max       79.000000      8.000000      8.000000      8.000000      8.000000   \n",
              "\n",
              "       ...      BILL_AMT4      BILL_AMT5      BILL_AMT6       PAY_AMT1  \\\n",
              "count  ...   30000.000000   30000.000000   30000.000000   30000.000000   \n",
              "mean   ...   43262.948967   40311.400967   38871.760400    5663.580500   \n",
              "std    ...   64332.856134   60797.155770   59554.107537   16563.280354   \n",
              "min    ... -170000.000000  -81334.000000 -339603.000000       0.000000   \n",
              "25%    ...    2326.750000    1763.000000    1256.000000    1000.000000   \n",
              "50%    ...   19052.000000   18104.500000   17071.000000    2100.000000   \n",
              "75%    ...   54506.000000   50190.500000   49198.250000    5006.000000   \n",
              "max    ...  891586.000000  927171.000000  961664.000000  873552.000000   \n",
              "\n",
              "           PAY_AMT2      PAY_AMT3       PAY_AMT4       PAY_AMT5  \\\n",
              "count  3.000000e+04   30000.00000   30000.000000   30000.000000   \n",
              "mean   5.921163e+03    5225.68150    4826.076867    4799.387633   \n",
              "std    2.304087e+04   17606.96147   15666.159744   15278.305679   \n",
              "min    0.000000e+00       0.00000       0.000000       0.000000   \n",
              "25%    8.330000e+02     390.00000     296.000000     252.500000   \n",
              "50%    2.009000e+03    1800.00000    1500.000000    1500.000000   \n",
              "75%    5.000000e+03    4505.00000    4013.250000    4031.500000   \n",
              "max    1.684259e+06  896040.00000  621000.000000  426529.000000   \n",
              "\n",
              "            PAY_AMT6  default payment next month  \n",
              "count   30000.000000                30000.000000  \n",
              "mean     5215.502567                    0.221200  \n",
              "std     17777.465775                    0.415062  \n",
              "min         0.000000                    0.000000  \n",
              "25%       117.750000                    0.000000  \n",
              "50%      1500.000000                    0.000000  \n",
              "75%      4000.000000                    0.000000  \n",
              "max    528666.000000                    1.000000  \n",
              "\n",
              "[8 rows x 25 columns]"
            ],
            "text/html": [
              "\n",
              "  <div id=\"df-640863e6-b106-461a-aac6-69b812fead4e\" class=\"colab-df-container\">\n",
              "    <div>\n",
              "<style scoped>\n",
              "    .dataframe tbody tr th:only-of-type {\n",
              "        vertical-align: middle;\n",
              "    }\n",
              "\n",
              "    .dataframe tbody tr th {\n",
              "        vertical-align: top;\n",
              "    }\n",
              "\n",
              "    .dataframe thead th {\n",
              "        text-align: right;\n",
              "    }\n",
              "</style>\n",
              "<table border=\"1\" class=\"dataframe\">\n",
              "  <thead>\n",
              "    <tr style=\"text-align: right;\">\n",
              "      <th></th>\n",
              "      <th>ID</th>\n",
              "      <th>LIMIT_BAL</th>\n",
              "      <th>SEX</th>\n",
              "      <th>EDUCATION</th>\n",
              "      <th>MARRIAGE</th>\n",
              "      <th>AGE</th>\n",
              "      <th>PAY_0</th>\n",
              "      <th>PAY_2</th>\n",
              "      <th>PAY_3</th>\n",
              "      <th>PAY_4</th>\n",
              "      <th>...</th>\n",
              "      <th>BILL_AMT4</th>\n",
              "      <th>BILL_AMT5</th>\n",
              "      <th>BILL_AMT6</th>\n",
              "      <th>PAY_AMT1</th>\n",
              "      <th>PAY_AMT2</th>\n",
              "      <th>PAY_AMT3</th>\n",
              "      <th>PAY_AMT4</th>\n",
              "      <th>PAY_AMT5</th>\n",
              "      <th>PAY_AMT6</th>\n",
              "      <th>default payment next month</th>\n",
              "    </tr>\n",
              "  </thead>\n",
              "  <tbody>\n",
              "    <tr>\n",
              "      <th>count</th>\n",
              "      <td>30000.000000</td>\n",
              "      <td>30000.000000</td>\n",
              "      <td>30000.000000</td>\n",
              "      <td>30000.000000</td>\n",
              "      <td>30000.000000</td>\n",
              "      <td>30000.000000</td>\n",
              "      <td>30000.000000</td>\n",
              "      <td>30000.000000</td>\n",
              "      <td>30000.000000</td>\n",
              "      <td>30000.000000</td>\n",
              "      <td>...</td>\n",
              "      <td>30000.000000</td>\n",
              "      <td>30000.000000</td>\n",
              "      <td>30000.000000</td>\n",
              "      <td>30000.000000</td>\n",
              "      <td>3.000000e+04</td>\n",
              "      <td>30000.00000</td>\n",
              "      <td>30000.000000</td>\n",
              "      <td>30000.000000</td>\n",
              "      <td>30000.000000</td>\n",
              "      <td>30000.000000</td>\n",
              "    </tr>\n",
              "    <tr>\n",
              "      <th>mean</th>\n",
              "      <td>15000.500000</td>\n",
              "      <td>167484.322667</td>\n",
              "      <td>1.603733</td>\n",
              "      <td>1.853133</td>\n",
              "      <td>1.551867</td>\n",
              "      <td>35.485500</td>\n",
              "      <td>-0.016700</td>\n",
              "      <td>-0.133767</td>\n",
              "      <td>-0.166200</td>\n",
              "      <td>-0.220667</td>\n",
              "      <td>...</td>\n",
              "      <td>43262.948967</td>\n",
              "      <td>40311.400967</td>\n",
              "      <td>38871.760400</td>\n",
              "      <td>5663.580500</td>\n",
              "      <td>5.921163e+03</td>\n",
              "      <td>5225.68150</td>\n",
              "      <td>4826.076867</td>\n",
              "      <td>4799.387633</td>\n",
              "      <td>5215.502567</td>\n",
              "      <td>0.221200</td>\n",
              "    </tr>\n",
              "    <tr>\n",
              "      <th>std</th>\n",
              "      <td>8660.398374</td>\n",
              "      <td>129747.661567</td>\n",
              "      <td>0.489129</td>\n",
              "      <td>0.790349</td>\n",
              "      <td>0.521970</td>\n",
              "      <td>9.217904</td>\n",
              "      <td>1.123802</td>\n",
              "      <td>1.197186</td>\n",
              "      <td>1.196868</td>\n",
              "      <td>1.169139</td>\n",
              "      <td>...</td>\n",
              "      <td>64332.856134</td>\n",
              "      <td>60797.155770</td>\n",
              "      <td>59554.107537</td>\n",
              "      <td>16563.280354</td>\n",
              "      <td>2.304087e+04</td>\n",
              "      <td>17606.96147</td>\n",
              "      <td>15666.159744</td>\n",
              "      <td>15278.305679</td>\n",
              "      <td>17777.465775</td>\n",
              "      <td>0.415062</td>\n",
              "    </tr>\n",
              "    <tr>\n",
              "      <th>min</th>\n",
              "      <td>1.000000</td>\n",
              "      <td>10000.000000</td>\n",
              "      <td>1.000000</td>\n",
              "      <td>0.000000</td>\n",
              "      <td>0.000000</td>\n",
              "      <td>21.000000</td>\n",
              "      <td>-2.000000</td>\n",
              "      <td>-2.000000</td>\n",
              "      <td>-2.000000</td>\n",
              "      <td>-2.000000</td>\n",
              "      <td>...</td>\n",
              "      <td>-170000.000000</td>\n",
              "      <td>-81334.000000</td>\n",
              "      <td>-339603.000000</td>\n",
              "      <td>0.000000</td>\n",
              "      <td>0.000000e+00</td>\n",
              "      <td>0.00000</td>\n",
              "      <td>0.000000</td>\n",
              "      <td>0.000000</td>\n",
              "      <td>0.000000</td>\n",
              "      <td>0.000000</td>\n",
              "    </tr>\n",
              "    <tr>\n",
              "      <th>25%</th>\n",
              "      <td>7500.750000</td>\n",
              "      <td>50000.000000</td>\n",
              "      <td>1.000000</td>\n",
              "      <td>1.000000</td>\n",
              "      <td>1.000000</td>\n",
              "      <td>28.000000</td>\n",
              "      <td>-1.000000</td>\n",
              "      <td>-1.000000</td>\n",
              "      <td>-1.000000</td>\n",
              "      <td>-1.000000</td>\n",
              "      <td>...</td>\n",
              "      <td>2326.750000</td>\n",
              "      <td>1763.000000</td>\n",
              "      <td>1256.000000</td>\n",
              "      <td>1000.000000</td>\n",
              "      <td>8.330000e+02</td>\n",
              "      <td>390.00000</td>\n",
              "      <td>296.000000</td>\n",
              "      <td>252.500000</td>\n",
              "      <td>117.750000</td>\n",
              "      <td>0.000000</td>\n",
              "    </tr>\n",
              "    <tr>\n",
              "      <th>50%</th>\n",
              "      <td>15000.500000</td>\n",
              "      <td>140000.000000</td>\n",
              "      <td>2.000000</td>\n",
              "      <td>2.000000</td>\n",
              "      <td>2.000000</td>\n",
              "      <td>34.000000</td>\n",
              "      <td>0.000000</td>\n",
              "      <td>0.000000</td>\n",
              "      <td>0.000000</td>\n",
              "      <td>0.000000</td>\n",
              "      <td>...</td>\n",
              "      <td>19052.000000</td>\n",
              "      <td>18104.500000</td>\n",
              "      <td>17071.000000</td>\n",
              "      <td>2100.000000</td>\n",
              "      <td>2.009000e+03</td>\n",
              "      <td>1800.00000</td>\n",
              "      <td>1500.000000</td>\n",
              "      <td>1500.000000</td>\n",
              "      <td>1500.000000</td>\n",
              "      <td>0.000000</td>\n",
              "    </tr>\n",
              "    <tr>\n",
              "      <th>75%</th>\n",
              "      <td>22500.250000</td>\n",
              "      <td>240000.000000</td>\n",
              "      <td>2.000000</td>\n",
              "      <td>2.000000</td>\n",
              "      <td>2.000000</td>\n",
              "      <td>41.000000</td>\n",
              "      <td>0.000000</td>\n",
              "      <td>0.000000</td>\n",
              "      <td>0.000000</td>\n",
              "      <td>0.000000</td>\n",
              "      <td>...</td>\n",
              "      <td>54506.000000</td>\n",
              "      <td>50190.500000</td>\n",
              "      <td>49198.250000</td>\n",
              "      <td>5006.000000</td>\n",
              "      <td>5.000000e+03</td>\n",
              "      <td>4505.00000</td>\n",
              "      <td>4013.250000</td>\n",
              "      <td>4031.500000</td>\n",
              "      <td>4000.000000</td>\n",
              "      <td>0.000000</td>\n",
              "    </tr>\n",
              "    <tr>\n",
              "      <th>max</th>\n",
              "      <td>30000.000000</td>\n",
              "      <td>1000000.000000</td>\n",
              "      <td>2.000000</td>\n",
              "      <td>6.000000</td>\n",
              "      <td>3.000000</td>\n",
              "      <td>79.000000</td>\n",
              "      <td>8.000000</td>\n",
              "      <td>8.000000</td>\n",
              "      <td>8.000000</td>\n",
              "      <td>8.000000</td>\n",
              "      <td>...</td>\n",
              "      <td>891586.000000</td>\n",
              "      <td>927171.000000</td>\n",
              "      <td>961664.000000</td>\n",
              "      <td>873552.000000</td>\n",
              "      <td>1.684259e+06</td>\n",
              "      <td>896040.00000</td>\n",
              "      <td>621000.000000</td>\n",
              "      <td>426529.000000</td>\n",
              "      <td>528666.000000</td>\n",
              "      <td>1.000000</td>\n",
              "    </tr>\n",
              "  </tbody>\n",
              "</table>\n",
              "<p>8 rows × 25 columns</p>\n",
              "</div>\n",
              "    <div class=\"colab-df-buttons\">\n",
              "\n",
              "  <div class=\"colab-df-container\">\n",
              "    <button class=\"colab-df-convert\" onclick=\"convertToInteractive('df-640863e6-b106-461a-aac6-69b812fead4e')\"\n",
              "            title=\"Convert this dataframe to an interactive table.\"\n",
              "            style=\"display:none;\">\n",
              "\n",
              "  <svg xmlns=\"http://www.w3.org/2000/svg\" height=\"24px\" viewBox=\"0 -960 960 960\">\n",
              "    <path d=\"M120-120v-720h720v720H120Zm60-500h600v-160H180v160Zm220 220h160v-160H400v160Zm0 220h160v-160H400v160ZM180-400h160v-160H180v160Zm440 0h160v-160H620v160ZM180-180h160v-160H180v160Zm440 0h160v-160H620v160Z\"/>\n",
              "  </svg>\n",
              "    </button>\n",
              "\n",
              "  <style>\n",
              "    .colab-df-container {\n",
              "      display:flex;\n",
              "      gap: 12px;\n",
              "    }\n",
              "\n",
              "    .colab-df-convert {\n",
              "      background-color: #E8F0FE;\n",
              "      border: none;\n",
              "      border-radius: 50%;\n",
              "      cursor: pointer;\n",
              "      display: none;\n",
              "      fill: #1967D2;\n",
              "      height: 32px;\n",
              "      padding: 0 0 0 0;\n",
              "      width: 32px;\n",
              "    }\n",
              "\n",
              "    .colab-df-convert:hover {\n",
              "      background-color: #E2EBFA;\n",
              "      box-shadow: 0px 1px 2px rgba(60, 64, 67, 0.3), 0px 1px 3px 1px rgba(60, 64, 67, 0.15);\n",
              "      fill: #174EA6;\n",
              "    }\n",
              "\n",
              "    .colab-df-buttons div {\n",
              "      margin-bottom: 4px;\n",
              "    }\n",
              "\n",
              "    [theme=dark] .colab-df-convert {\n",
              "      background-color: #3B4455;\n",
              "      fill: #D2E3FC;\n",
              "    }\n",
              "\n",
              "    [theme=dark] .colab-df-convert:hover {\n",
              "      background-color: #434B5C;\n",
              "      box-shadow: 0px 1px 3px 1px rgba(0, 0, 0, 0.15);\n",
              "      filter: drop-shadow(0px 1px 2px rgba(0, 0, 0, 0.3));\n",
              "      fill: #FFFFFF;\n",
              "    }\n",
              "  </style>\n",
              "\n",
              "    <script>\n",
              "      const buttonEl =\n",
              "        document.querySelector('#df-640863e6-b106-461a-aac6-69b812fead4e button.colab-df-convert');\n",
              "      buttonEl.style.display =\n",
              "        google.colab.kernel.accessAllowed ? 'block' : 'none';\n",
              "\n",
              "      async function convertToInteractive(key) {\n",
              "        const element = document.querySelector('#df-640863e6-b106-461a-aac6-69b812fead4e');\n",
              "        const dataTable =\n",
              "          await google.colab.kernel.invokeFunction('convertToInteractive',\n",
              "                                                    [key], {});\n",
              "        if (!dataTable) return;\n",
              "\n",
              "        const docLinkHtml = 'Like what you see? Visit the ' +\n",
              "          '<a target=\"_blank\" href=https://colab.research.google.com/notebooks/data_table.ipynb>data table notebook</a>'\n",
              "          + ' to learn more about interactive tables.';\n",
              "        element.innerHTML = '';\n",
              "        dataTable['output_type'] = 'display_data';\n",
              "        await google.colab.output.renderOutput(dataTable, element);\n",
              "        const docLink = document.createElement('div');\n",
              "        docLink.innerHTML = docLinkHtml;\n",
              "        element.appendChild(docLink);\n",
              "      }\n",
              "    </script>\n",
              "  </div>\n",
              "\n",
              "\n",
              "    <div id=\"df-96b01ca9-6629-490f-88e7-71e48e9b93c1\">\n",
              "      <button class=\"colab-df-quickchart\" onclick=\"quickchart('df-96b01ca9-6629-490f-88e7-71e48e9b93c1')\"\n",
              "                title=\"Suggest charts\"\n",
              "                style=\"display:none;\">\n",
              "\n",
              "<svg xmlns=\"http://www.w3.org/2000/svg\" height=\"24px\"viewBox=\"0 0 24 24\"\n",
              "     width=\"24px\">\n",
              "    <g>\n",
              "        <path d=\"M19 3H5c-1.1 0-2 .9-2 2v14c0 1.1.9 2 2 2h14c1.1 0 2-.9 2-2V5c0-1.1-.9-2-2-2zM9 17H7v-7h2v7zm4 0h-2V7h2v10zm4 0h-2v-4h2v4z\"/>\n",
              "    </g>\n",
              "</svg>\n",
              "      </button>\n",
              "\n",
              "<style>\n",
              "  .colab-df-quickchart {\n",
              "      --bg-color: #E8F0FE;\n",
              "      --fill-color: #1967D2;\n",
              "      --hover-bg-color: #E2EBFA;\n",
              "      --hover-fill-color: #174EA6;\n",
              "      --disabled-fill-color: #AAA;\n",
              "      --disabled-bg-color: #DDD;\n",
              "  }\n",
              "\n",
              "  [theme=dark] .colab-df-quickchart {\n",
              "      --bg-color: #3B4455;\n",
              "      --fill-color: #D2E3FC;\n",
              "      --hover-bg-color: #434B5C;\n",
              "      --hover-fill-color: #FFFFFF;\n",
              "      --disabled-bg-color: #3B4455;\n",
              "      --disabled-fill-color: #666;\n",
              "  }\n",
              "\n",
              "  .colab-df-quickchart {\n",
              "    background-color: var(--bg-color);\n",
              "    border: none;\n",
              "    border-radius: 50%;\n",
              "    cursor: pointer;\n",
              "    display: none;\n",
              "    fill: var(--fill-color);\n",
              "    height: 32px;\n",
              "    padding: 0;\n",
              "    width: 32px;\n",
              "  }\n",
              "\n",
              "  .colab-df-quickchart:hover {\n",
              "    background-color: var(--hover-bg-color);\n",
              "    box-shadow: 0 1px 2px rgba(60, 64, 67, 0.3), 0 1px 3px 1px rgba(60, 64, 67, 0.15);\n",
              "    fill: var(--button-hover-fill-color);\n",
              "  }\n",
              "\n",
              "  .colab-df-quickchart-complete:disabled,\n",
              "  .colab-df-quickchart-complete:disabled:hover {\n",
              "    background-color: var(--disabled-bg-color);\n",
              "    fill: var(--disabled-fill-color);\n",
              "    box-shadow: none;\n",
              "  }\n",
              "\n",
              "  .colab-df-spinner {\n",
              "    border: 2px solid var(--fill-color);\n",
              "    border-color: transparent;\n",
              "    border-bottom-color: var(--fill-color);\n",
              "    animation:\n",
              "      spin 1s steps(1) infinite;\n",
              "  }\n",
              "\n",
              "  @keyframes spin {\n",
              "    0% {\n",
              "      border-color: transparent;\n",
              "      border-bottom-color: var(--fill-color);\n",
              "      border-left-color: var(--fill-color);\n",
              "    }\n",
              "    20% {\n",
              "      border-color: transparent;\n",
              "      border-left-color: var(--fill-color);\n",
              "      border-top-color: var(--fill-color);\n",
              "    }\n",
              "    30% {\n",
              "      border-color: transparent;\n",
              "      border-left-color: var(--fill-color);\n",
              "      border-top-color: var(--fill-color);\n",
              "      border-right-color: var(--fill-color);\n",
              "    }\n",
              "    40% {\n",
              "      border-color: transparent;\n",
              "      border-right-color: var(--fill-color);\n",
              "      border-top-color: var(--fill-color);\n",
              "    }\n",
              "    60% {\n",
              "      border-color: transparent;\n",
              "      border-right-color: var(--fill-color);\n",
              "    }\n",
              "    80% {\n",
              "      border-color: transparent;\n",
              "      border-right-color: var(--fill-color);\n",
              "      border-bottom-color: var(--fill-color);\n",
              "    }\n",
              "    90% {\n",
              "      border-color: transparent;\n",
              "      border-bottom-color: var(--fill-color);\n",
              "    }\n",
              "  }\n",
              "</style>\n",
              "\n",
              "      <script>\n",
              "        async function quickchart(key) {\n",
              "          const quickchartButtonEl =\n",
              "            document.querySelector('#' + key + ' button');\n",
              "          quickchartButtonEl.disabled = true;  // To prevent multiple clicks.\n",
              "          quickchartButtonEl.classList.add('colab-df-spinner');\n",
              "          try {\n",
              "            const charts = await google.colab.kernel.invokeFunction(\n",
              "                'suggestCharts', [key], {});\n",
              "          } catch (error) {\n",
              "            console.error('Error during call to suggestCharts:', error);\n",
              "          }\n",
              "          quickchartButtonEl.classList.remove('colab-df-spinner');\n",
              "          quickchartButtonEl.classList.add('colab-df-quickchart-complete');\n",
              "        }\n",
              "        (() => {\n",
              "          let quickchartButtonEl =\n",
              "            document.querySelector('#df-96b01ca9-6629-490f-88e7-71e48e9b93c1 button');\n",
              "          quickchartButtonEl.style.display =\n",
              "            google.colab.kernel.accessAllowed ? 'block' : 'none';\n",
              "        })();\n",
              "      </script>\n",
              "    </div>\n",
              "\n",
              "    </div>\n",
              "  </div>\n"
            ],
            "application/vnd.google.colaboratory.intrinsic+json": {
              "type": "dataframe"
            }
          },
          "metadata": {},
          "execution_count": 8
        }
      ],
      "source": [
        "data_bank.describe()"
      ]
    },
    {
      "cell_type": "markdown",
      "source": [
        "- Credit limit (LIMIT_BAL) ranges from 10,000 to 1,000,000 NT$, with a high mean (~167,484) but large variability (std ~129,748), indicating wide disparity in customer credit limits.\n",
        "\n",
        "- Age (AGE) ranges from 21 to 79, centered mostly around mid-30s, representing mostly adult customers.\n",
        "\n",
        "- The payment status variables (PAY_0 to PAY_6) range from -2 (early payment) to 8 (very late payment), with means around 0 or slightly negative for the entire dataset, but positively correlated with default risk.\n",
        "\n",
        "- Bill amounts (BILL_AMT1 to BILL_AMT6) and payment amounts (PAY_AMT1 to PAY_AMT6) have wide ranges and significant outliers, with some very large negative values in bill amounts likely representing data errors or refunds.\n",
        "\n",
        "- The target variable (default payment next month) has a mean of about 0.22, reflecting that roughly 22% of customers defaulted."
      ],
      "metadata": {
        "id": "7kuqOUL8wcMd"
      }
    },
    {
      "cell_type": "code",
      "execution_count": null,
      "metadata": {
        "colab": {
          "base_uri": "https://localhost:8080/",
          "height": 472
        },
        "id": "kJ2fdh_MY79S",
        "outputId": "08ab1437-dcf6-43b9-e9fa-ca340d7bb65f"
      },
      "outputs": [
        {
          "output_type": "display_data",
          "data": {
            "text/plain": [
              "<Figure size 1200x500 with 2 Axes>"
            ],
            "image/png": "[encoded data removed]"
          },
          "metadata": {}
        }
      ],
      "source": [
        "import matplotlib.pyplot as plt\n",
        "import seaborn as sns\n",
        "\n",
        "sns.set(style='whitegrid')\n",
        "\n",
        "# Distribution of LIMIT_BAL and AGE\n",
        "plt.figure(figsize=(12, 5))\n",
        "plt.subplot(1, 2, 1)\n",
        "sns.histplot(data_bank['LIMIT_BAL'], bins=30, kde=True)\n",
        "plt.title('Distribution of Credit Limit (LIMIT_BAL)')\n",
        "\n",
        "plt.subplot(1, 2, 2)\n",
        "sns.histplot(data_bank['AGE'], bins=30, kde=True)\n",
        "plt.title('Distribution of Age')\n",
        "plt.tight_layout()\n",
        "plt.show()"
      ]
    },
    {
      "cell_type": "markdown",
      "source": [
        "- Credit Limit (LIMIT_BAL):\n",
        "The distribution is heavily right-skewed, with most customers having a credit limit below 200,000 NT$. There are a few customers with very high credit limits, which create a long tail in the distribution.\n",
        "\n",
        "- Age (AGE):\n",
        "Most customers are between 25 and 40 years old. The age distribution is slightly left-skewed, indicating fewer older customers."
      ],
      "metadata": {
        "id": "xaQr1HT8wzSy"
      }
    },
    {
      "cell_type": "code",
      "execution_count": null,
      "metadata": {
        "colab": {
          "base_uri": "https://localhost:8080/",
          "height": 373
        },
        "id": "PaKrITmTaJqv",
        "outputId": "5729109c-9862-4a3e-d643-27c11f33f5af"
      },
      "outputs": [
        {
          "output_type": "display_data",
          "data": {
            "text/plain": [
              "<Figure size 1800x500 with 3 Axes>"
            ],
            "image/png": "[encoded data removed]"
          },
          "metadata": {}
        }
      ],
      "source": [
        "# Count plots for categorical features\n",
        "fig, axes = plt.subplots(1, 3, figsize=(18, 5))\n",
        "\n",
        "sns.countplot(x='SEX', data=data_bank, ax=axes[0])\n",
        "axes[0].set_title('Gender Distribution')\n",
        "\n",
        "sns.countplot(x='EDUCATION', data=data_bank, ax=axes[1])\n",
        "axes[1].set_title('Education Levels')\n",
        "\n",
        "sns.countplot(x='MARRIAGE', data=data_bank, ax=axes[2])\n",
        "axes[2].set_title('Marital Status')\n",
        "plt.show()"
      ]
    },
    {
      "cell_type": "markdown",
      "source": [
        "1. Gender (SEX):\n",
        "Females (coded as 2) make up the majority (~60%) of customers, while males (coded as 1) represent ~40%.\n",
        "\n",
        "2. Education Levels (EDUCATION):\n",
        "Most customers have education levels coded as 1 or 2, representing college or graduate degrees.\n",
        "There are some unusual codes (0, 4, 5, 6) with very few samples, which may need to be grouped or cleaned.\n",
        "\n",
        "3. Marital Status (MARRIAGE):\n",
        "Most customers are either married (2) or single (1).\n",
        "A very small number fall into category 0 or 3, which could be considered as \"others\" or missing and may require processing."
      ],
      "metadata": {
        "id": "TFAcz8zVw9Nf"
      }
    },
    {
      "cell_type": "code",
      "execution_count": null,
      "metadata": {
        "colab": {
          "base_uri": "https://localhost:8080/",
          "height": 480
        },
        "id": "v3C9ZDHMaOqP",
        "outputId": "b9c5a657-dac8-44e9-f381-568e53198f67"
      },
      "outputs": [
        {
          "output_type": "display_data",
          "data": {
            "text/plain": [
              "<Figure size 640x480 with 1 Axes>"
            ],
            "image/png": "[encoded data removed]"
          },
          "metadata": {}
        }
      ],
      "source": [
        "sns.countplot(x='default payment next month', data=data_bank)\n",
        "plt.title('Default vs Non-default Clients')\n",
        "plt.xticks([0, 1], ['No Default', 'Default'])\n",
        "plt.ylabel('Count')\n",
        "plt.show()"
      ]
    },
    {
      "cell_type": "markdown",
      "source": [
        "Target Variable Insight\n",
        "- The dataset is imbalanced, with about 78% of clients classified as No Default and only 22% as Default.\n",
        "\n",
        "- This imbalance means that most customers do not default, but the minority class (default) is crucial for risk prediction.\n",
        "\n",
        "- Special handling such as resampling or class-weight adjustment will be needed when building models to avoid bias toward the majority class."
      ],
      "metadata": {
        "id": "2pZLks7SxIDM"
      }
    },
    {
      "cell_type": "code",
      "execution_count": null,
      "metadata": {
        "colab": {
          "base_uri": "https://localhost:8080/",
          "height": 1000
        },
        "id": "4saAVoJZaT21",
        "outputId": "303b51ce-2f71-401e-fabb-c15c117c27f6"
      },
      "outputs": [
        {
          "output_type": "display_data",
          "data": {
            "text/plain": [
              "<Figure size 640x480 with 1 Axes>"
            ],
            "image/png": "[encoded data removed]"
          },
          "metadata": {}
        },
        {
          "output_type": "display_data",
          "data": {
            "text/plain": [
              "<Figure size 640x480 with 1 Axes>"
            ],
            "image/png": "[encoded data removed]"
          },
          "metadata": {}
        },
        {
          "output_type": "display_data",
          "data": {
            "text/plain": [
              "<Figure size 640x480 with 1 Axes>"
            ],
            "image/png": "[encoded data removed]"
          },
          "metadata": {}
        },
        {
          "output_type": "display_data",
          "data": {
            "text/plain": [
              "<Figure size 640x480 with 1 Axes>"
            ],
            "image/png": "[encoded data removed]"
          },
          "metadata": {}
        },
        {
          "output_type": "display_data",
          "data": {
            "text/plain": [
              "<Figure size 640x480 with 1 Axes>"
            ],
            "image/png": "[encoded data removed]"
          },
          "metadata": {}
        },
        {
          "output_type": "display_data",
          "data": {
            "text/plain": [
              "<Figure size 640x480 with 1 Axes>"
            ],
            "image/png": "[encoded data removed]"
          },
          "metadata": {}
        }
      ],
      "source": [
        "pay_cols = [f'PAY_{i}' for i in [0, 2, 3, 4, 5, 6]]\n",
        "data_bank[pay_cols].apply(pd.Series.value_counts).T\n",
        "\n",
        "for col in pay_cols:\n",
        "    sns.boxplot(x='default payment next month', y=col, data=data_bank)\n",
        "    plt.title(f'{col} by Default Status')\n",
        "    plt.show()"
      ]
    },
    {
      "cell_type": "markdown",
      "source": [
        "- For every month from PAY_0 (most recent) to PAY_6 (oldest), customers who defaulted tend to have higher payment delay values. This means they were late on payments more frequently and for longer periods.\n",
        "\n",
        "- Non-default customers mostly have payment statuses close to or below zero, indicating on-time or early payments.\n",
        "\n",
        "- The consistent pattern across all six months shows that payment history over time is a strong indicator of future default risk.\n",
        "\n",
        "- The presence of outliers in the default group indicates some customers experience severe payment delays, which can be crucial for risk assessment."
      ],
      "metadata": {
        "id": "wOK14Z9Zyvrp"
      }
    },
    {
      "cell_type": "code",
      "execution_count": null,
      "metadata": {
        "colab": {
          "base_uri": "https://localhost:8080/",
          "height": 943
        },
        "id": "x-SzxrQ8aWWJ",
        "outputId": "efd01bc3-f6bd-439c-ced5-3cdc62250a68"
      },
      "outputs": [
        {
          "output_type": "display_data",
          "data": {
            "text/plain": [
              "<Figure size 640x480 with 1 Axes>"
            ],
            "image/png": "[encoded data removed]"
          },
          "metadata": {}
        },
        {
          "output_type": "display_data",
          "data": {
            "text/plain": [
              "<Figure size 640x480 with 1 Axes>"
            ],
            "image/png": "[encoded data removed]"
          },
          "metadata": {}
        }
      ],
      "source": [
        "\n",
        "# Create total features\n",
        "data_bank['TOTAL_BILL'] = data_bank[[f'BILL_AMT{i}' for i in range(1, 7)]].sum(axis=1)\n",
        "data_bank['TOTAL_PAY'] = data_bank[[f'PAY_AMT{i}' for i in range(1, 7)]].sum(axis=1)\n",
        "\n",
        "sns.boxplot(x='default payment next month', y='TOTAL_BILL', data=data_bank)\n",
        "plt.title('Total Bill Amount by Default')\n",
        "plt.show()\n",
        "\n",
        "sns.boxplot(x='default payment next month', y='TOTAL_PAY', data=data_bank)\n",
        "plt.title('Total Payment Amount by Default')\n",
        "plt.show()"
      ]
    },
    {
      "cell_type": "markdown",
      "source": [
        "* Total Bill Amount (TOTAL_BILL):\n",
        "The distribution of total bill amounts is similar for both default and non-default groups. Both groups have many outliers with very high bill amounts, but the median and interquartile range are comparable.\n",
        "This suggests that the total outstanding bill alone is not a strong differentiator between those who default and those who don’t.\n",
        "\n",
        "* Total Payment Amount (TOTAL_PAY):\n",
        "There is a noticeable difference in total payments made.\n",
        "Non-default customers tend to have higher total payment amounts compared to defaulters. The presence of many high-value outliers in the non-default group indicates that paying more consistently may reduce the likelihood of default.\n",
        "The lower payments in the default group highlight a potential risk factor.\n",
        "\n"
      ],
      "metadata": {
        "id": "pnTGomNHxrQv"
      }
    },
    {
      "cell_type": "code",
      "execution_count": null,
      "metadata": {
        "colab": {
          "base_uri": "https://localhost:8080/",
          "height": 1000
        },
        "id": "HpwQtmm_abfr",
        "outputId": "bd2bafee-5e17-488f-d037-fe781806c4e6"
      },
      "outputs": [
        {
          "output_type": "display_data",
          "data": {
            "text/plain": [
              "<Figure size 1000x1200 with 2 Axes>"
            ],
            "image/png": "[encoded data removed]"
          },
          "metadata": {}
        }
      ],
      "source": [
        "plt.figure(figsize=(10, 12))\n",
        "corr = data_bank.corr(numeric_only=True)\n",
        "sns.heatmap(corr[['default payment next month']].sort_values(by='default payment next month', ascending=False),\n",
        "            annot=True, cmap='coolwarm')\n",
        "plt.title('Correlation with Target Variable')\n",
        "plt.show()"
      ]
    },
    {
      "cell_type": "markdown",
      "source": [
        "- The payment status variables (PAY_0 to PAY_6) have the strongest positive correlation with default status, ranging from 0.19 to 0.32. This indicates that higher delayed payment statuses are linked with higher default risk.\n",
        "\n",
        "- Credit limit (LIMIT_BAL) has a moderate negative correlation (-0.15), meaning customers with higher credit limits are less likely to default.\n",
        "\n",
        "- Total payment amount (TOTAL_PAY) also negatively correlates (-0.10) with default, suggesting customers who pay more are less likely to default.\n",
        "\n",
        "- Other variables like education, age, bill amounts, gender, and marital status show very weak or almost no correlation with default.\n",
        "\n",
        "- The negative correlations for bill amounts and payment amounts (except payment status) suggest that the absolute amounts may be less predictive than payment timeliness."
      ],
      "metadata": {
        "id": "8tEIgYcDzCW5"
      }
    },
    {
      "cell_type": "markdown",
      "metadata": {
        "id": "N3uxRENzbBOg"
      },
      "source": [
        "# **Data Preprocessing**"
      ]
    },
    {
      "cell_type": "markdown",
      "metadata": {
        "id": "Sz0U28egVh8i"
      },
      "source": [
        "1. Handle invalid categorical values"
      ]
    },
    {
      "cell_type": "code",
      "execution_count": null,
      "metadata": {
        "id": "o_0txdLcbF6D"
      },
      "outputs": [],
      "source": [
        "# Combine rare/unexpected values\n",
        "data_bank['EDUCATION'] = data_bank['EDUCATION'].replace({0: 4, 5: 4, 6: 4})\n",
        "data_bank['MARRIAGE'] = data_bank['MARRIAGE'].replace({0: 3})"
      ]
    },
    {
      "cell_type": "markdown",
      "source": [
        "- This step replaces rare or invalid values in categorical variables.\n",
        "\n",
        "- In the EDUCATION column, values 0, 5, and 6 are replaced with 4, likely representing an \"Others\" or \"Unknown\" category.\n",
        "\n",
        "- In the MARRIAGE column, value 0 is replaced with 3, also probably an \"Others\" or \"Unknown\" group.\n",
        "\n",
        "- The goal is to group uncommon categories together to avoid data sparsity and improve model training."
      ],
      "metadata": {
        "id": "A49aXE1lz_mE"
      }
    },
    {
      "cell_type": "markdown",
      "metadata": {
        "id": "s1CsZIzKVlQC"
      },
      "source": [
        "2. One-hot encode categorical features"
      ]
    },
    {
      "cell_type": "code",
      "execution_count": null,
      "metadata": {
        "id": "BuJSNEZ9D7qU"
      },
      "outputs": [],
      "source": [
        "# One-Hot Encode Categorical Variables\n",
        "data_encoded = pd.get_dummies(data_bank, columns=['SEX', 'EDUCATION', 'MARRIAGE'], drop_first=True)"
      ]
    },
    {
      "cell_type": "markdown",
      "source": [
        "- This applies One-Hot Encoding to categorical variables SEX, EDUCATION, and MARRIAGE.\n",
        "\n",
        "- One-hot encoding converts each category into separate binary columns (0 or 1), which is required for most machine learning algorithms.\n",
        "\n",
        "- The parameter drop_first=True drops the first category in each variable to prevent multicollinearity (redundancy) among features."
      ],
      "metadata": {
        "id": "l-36kDGE0PJj"
      }
    },
    {
      "cell_type": "markdown",
      "metadata": {
        "id": "j5_e1AqbVn57"
      },
      "source": [
        "3. Aggregate total payments and bills"
      ]
    },
    {
      "cell_type": "code",
      "execution_count": null,
      "metadata": {
        "id": "HoQo1eecEIzn"
      },
      "outputs": [],
      "source": [
        "# Total amount billed and paid across 6 months\n",
        "data_encoded['TOTAL_PAY'] = data_encoded[[f'PAY_AMT{i}' for i in range(1, 7)]].sum(axis=1)\n",
        "data_encoded['TOTAL_BILL'] = data_encoded[[f'BILL_AMT{i}' for i in range(1, 7)]].sum(axis=1)"
      ]
    },
    {
      "cell_type": "markdown",
      "source": [
        "- This creates two new features: TOTAL_PAY and TOTAL_BILL, by summing the payment amounts (PAY_AMT1 to PAY_AMT6) and bill amounts (BILL_AMT1 to BILL_AMT6) over 6 months.\n",
        "\n",
        "- The axis=1 argument sums values across each row (per customer).\n",
        "\n",
        "- Aggregating these features reduces data dimensionality and provides meaningful summary metrics useful for prediction."
      ],
      "metadata": {
        "id": "Xw2O_Irx0UOc"
      }
    },
    {
      "cell_type": "markdown",
      "metadata": {
        "id": "MIi-DJ-YVqWD"
      },
      "source": [
        "4. Select Features"
      ]
    },
    {
      "cell_type": "code",
      "execution_count": null,
      "metadata": {
        "id": "6y25ZeOW12k9"
      },
      "outputs": [],
      "source": [
        "from sklearn.feature_selection import SelectKBest, f_classif"
      ]
    },
    {
      "cell_type": "code",
      "execution_count": null,
      "metadata": {
        "colab": {
          "base_uri": "https://localhost:8080/"
        },
        "id": "4Y_N6YIy1pOU",
        "outputId": "b070dde6-ca29-4953-e3f2-aeff40898955"
      },
      "outputs": [
        {
          "output_type": "execute_result",
          "data": {
            "text/plain": [
              "Index(['LIMIT_BAL', 'PAY_0', 'PAY_2', 'PAY_3', 'PAY_4', 'PAY_5', 'PAY_6',\n",
              "       'PAY_AMT1', 'PAY_AMT2', 'PAY_AMT3', 'PAY_AMT4', 'PAY_AMT5', 'PAY_AMT6',\n",
              "       'TOTAL_PAY', 'EDUCATION_4'],\n",
              "      dtype='object')"
            ]
          },
          "metadata": {},
          "execution_count": 19
        }
      ],
      "source": [
        "# Separate input features X and target variable y\n",
        "X = data_encoded.drop(['ID', 'default payment next month'], axis=1, errors='ignore')\n",
        "y = data_encoded['default payment next month']\n",
        "\n",
        "# Create selector to choose top 15 features by ANOVA F-value\n",
        "selector = SelectKBest(score_func=f_classif, k=15)\n",
        "\n",
        "# Fit selector to the data\n",
        "X_new = selector.fit_transform(X, y)\n",
        "\n",
        "# Get the names of the selected features\n",
        "selected_features = X.columns[selector.get_support()]\n",
        "\n",
        "selected_features"
      ]
    },
    {
      "cell_type": "markdown",
      "source": [
        "- The dataset’s features and target were separated.\n",
        "\n",
        "- The SelectKBest method with ANOVA F-value was used to select the top 15 most important features related to credit default.\n",
        "\n",
        "- Selected features mainly include:\n",
        "\n",
        "- Credit limit (LIMIT_BAL)\n",
        "\n",
        "- Payment status over the last 6 months (PAY_0 to PAY_6)\n",
        "\n",
        "- Payment amounts over the last 6 months (PAY_AMT1 to PAY_AMT6)\n",
        "\n",
        "- Total payment amount (TOTAL_PAY)\n",
        "\n",
        "- One education category (EDUCATION_4)"
      ],
      "metadata": {
        "id": "BRB56b8X0gBc"
      }
    },
    {
      "cell_type": "code",
      "execution_count": null,
      "metadata": {
        "id": "BbrlT1yl2_Yx"
      },
      "outputs": [],
      "source": [
        "selected_features = [\n",
        "    'LIMIT_BAL', 'PAY_0', 'PAY_2', 'PAY_3', 'PAY_4', 'PAY_5', 'PAY_6',\n",
        "    'PAY_AMT1', 'PAY_AMT2', 'PAY_AMT3', 'PAY_AMT4', 'PAY_AMT5', 'PAY_AMT6',\n",
        "    'TOTAL_PAY', 'EDUCATION_4']\n",
        "\n",
        "# Extract the final feature set\n",
        "X = data_encoded[selected_features]\n",
        "\n",
        "# Target variable\n",
        "y = data_encoded['default payment next month']"
      ]
    },
    {
      "cell_type": "markdown",
      "source": [
        "- Manually list the selected features based on the previous feature selection results:\n",
        "\n",
        "Credit limit (LIMIT_BAL)\n",
        "\n",
        "Payment status for months 0 to 6 (PAY_0 to PAY_6)\n",
        "\n",
        "Payment amounts for months 1 to 6 (PAY_AMT1 to PAY_AMT6)\n",
        "\n",
        "Total payment amount (TOTAL_PAY)\n",
        "\n",
        "Education category 4 (EDUCATION_4)\n",
        "\n",
        "- Extract these features from the encoded dataset to create your final input matrix X.\n",
        "\n",
        "- The target variable y is set as the default status next month (default payment next month)."
      ],
      "metadata": {
        "id": "lZ-I6iJw1SO9"
      }
    },
    {
      "cell_type": "markdown",
      "metadata": {
        "id": "VaMz0U7OVs93"
      },
      "source": [
        "5. Train/Test Split"
      ]
    },
    {
      "cell_type": "code",
      "execution_count": null,
      "metadata": {
        "id": "WD4DCUS-4pfh"
      },
      "outputs": [],
      "source": [
        "from sklearn.preprocessing import StandardScaler\n",
        "from sklearn.model_selection import train_test_split\n",
        "\n",
        "# 1. Split data first\n",
        "X_train, X_test, y_train, y_test = train_test_split(\n",
        "    X, y, test_size=0.2, stratify=y, random_state=42\n",
        ")\n",
        "\n",
        "# 2. Create scaler and fit on training data only\n",
        "scaler = StandardScaler()\n",
        "X_train_scaled = scaler.fit_transform(X_train)\n",
        "\n",
        "# 3. Transform test data with the same scaler\n",
        "X_test_scaled = scaler.transform(X_test)"
      ]
    },
    {
      "cell_type": "markdown",
      "source": [
        "- Splits the data into training (80%) and testing (20%) sets.\n",
        "\n",
        "- The stratify=y argument ensures the target class distribution is preserved in both sets, important for imbalanced datasets.\n",
        "\n",
        "- random_state=42 fixes the split for reproducibility."
      ],
      "metadata": {
        "id": "eLrd1Xrr1t-k"
      }
    },
    {
      "cell_type": "markdown",
      "source": [
        "- Uses StandardScaler to standardize features by removing the mean and scaling to unit variance.\n",
        "\n",
        "- The scaler is fitted only on training data to avoid data leakage.\n",
        "\n",
        "- Then the same scaler is applied to test data to keep feature scaling consistent."
      ],
      "metadata": {
        "id": "1WZe3MCO2LcQ"
      }
    },
    {
      "cell_type": "code",
      "execution_count": null,
      "metadata": {
        "colab": {
          "base_uri": "https://localhost:8080/"
        },
        "id": "O_9gaaYtO-Km",
        "outputId": "ed21f377-675f-4c68-b0ed-bb859076eb8a"
      },
      "outputs": [
        {
          "output_type": "stream",
          "name": "stdout",
          "text": [
            "Collecting imblearn\n",
            "  Downloading imblearn-0.0-py2.py3-none-any.whl.metadata (355 bytes)\n",
            "Requirement already satisfied: imbalanced-learn in /usr/local/lib/python3.11/dist-packages (from imblearn) (0.13.0)\n",
            "Requirement already satisfied: numpy<3,>=1.24.3 in /usr/local/lib/python3.11/dist-packages (from imbalanced-learn->imblearn) (2.0.2)\n",
            "Requirement already satisfied: scipy<2,>=1.10.1 in /usr/local/lib/python3.11/dist-packages (from imbalanced-learn->imblearn) (1.15.3)\n",
            "Requirement already satisfied: scikit-learn<2,>=1.3.2 in /usr/local/lib/python3.11/dist-packages (from imbalanced-learn->imblearn) (1.6.1)\n",
            "Requirement already satisfied: sklearn-compat<1,>=0.1 in /usr/local/lib/python3.11/dist-packages (from imbalanced-learn->imblearn) (0.1.3)\n",
            "Requirement already satisfied: joblib<2,>=1.1.1 in /usr/local/lib/python3.11/dist-packages (from imbalanced-learn->imblearn) (1.5.0)\n",
            "Requirement already satisfied: threadpoolctl<4,>=2.0.0 in /usr/local/lib/python3.11/dist-packages (from imbalanced-learn->imblearn) (3.6.0)\n",
            "Downloading imblearn-0.0-py2.py3-none-any.whl (1.9 kB)\n",
            "Installing collected packages: imblearn\n",
            "Successfully installed imblearn-0.0\n"
          ]
        }
      ],
      "source": [
        "from imblearn.over_sampling import SMOTE\n",
        "!pip install imblearn"
      ]
    },
    {
      "cell_type": "code",
      "execution_count": null,
      "metadata": {
        "id": "-SpToXC6O_5C"
      },
      "outputs": [],
      "source": [
        "# 4. Apply SMOTE to the TRAINING data only (to balance classes)\n",
        "smote = SMOTE(random_state=42)\n",
        "X_train_resampled, y_train_resampled = smote.fit_resample(X_train_scaled, y_train)"
      ]
    },
    {
      "cell_type": "markdown",
      "source": [
        "- SMOTE (Synthetic Minority Oversampling Technique) is used to balance the training dataset by creating synthetic examples of the minority class (defaults).\n",
        "\n",
        "- Only applied to training data, not the test data, to prevent biasing evaluation.\n",
        "\n",
        "- Helps improve model learning on the minority class without losing data from the majority class."
      ],
      "metadata": {
        "id": "fKu_Fr6l2VQE"
      }
    },
    {
      "cell_type": "markdown",
      "metadata": {
        "id": "Buy1nvuqcM8y"
      },
      "source": [
        "# **Model Training**"
      ]
    },
    {
      "cell_type": "code",
      "execution_count": null,
      "metadata": {
        "id": "uuZxe52aO4aG"
      },
      "outputs": [],
      "source": [
        "# Imports\n",
        "from sklearn.linear_model import LogisticRegression\n",
        "from sklearn.ensemble import RandomForestClassifier\n",
        "from sklearn.svm import SVC\n",
        "from sklearn.metrics import confusion_matrix, accuracy_score, precision_score, recall_score, f1_score, roc_auc_score, roc_curve\n",
        "import matplotlib.pyplot as plt\n",
        "import numpy as np\n",
        "\n",
        "# Deep Learning\n",
        "from tensorflow.keras.models import Sequential\n",
        "from tensorflow.keras.layers import Dense\n",
        "from tensorflow.keras.optimizers import Adam"
      ]
    },
    {
      "cell_type": "markdown",
      "metadata": {
        "id": "bmVlCRerN9cB"
      },
      "source": [
        "1. Logistic Regression"
      ]
    },
    {
      "cell_type": "code",
      "execution_count": null,
      "metadata": {
        "id": "ERwdbTiH5-Bx"
      },
      "outputs": [],
      "source": [
        "lr = LogisticRegression(class_weight='balanced', random_state=42)\n",
        "lr.fit(X_train_resampled, y_train_resampled)\n",
        "y_pred_lr = lr.predict(X_test_scaled)\n",
        "y_proba_lr = lr.predict_proba(X_test_scaled)[:,1]"
      ]
    },
    {
      "cell_type": "code",
      "source": [
        "from sklearn.metrics import classification_report\n",
        "\n",
        "print(\"Logistic Regression Classification Report:\")\n",
        "print(classification_report(y_test, y_pred_lr))"
      ],
      "metadata": {
        "id": "Hlgts9w_aXty",
        "colab": {
          "base_uri": "https://localhost:8080/"
        },
        "outputId": "cb5f67ab-8a98-4cf6-976d-cf75edff8519"
      },
      "execution_count": null,
      "outputs": [
        {
          "output_type": "stream",
          "name": "stdout",
          "text": [
            "Logistic Regression Classification Report:\n",
            "              precision    recall  f1-score   support\n",
            "\n",
            "           0       0.86      0.64      0.74      4673\n",
            "           1       0.34      0.64      0.44      1327\n",
            "\n",
            "    accuracy                           0.64      6000\n",
            "   macro avg       0.60      0.64      0.59      6000\n",
            "weighted avg       0.75      0.64      0.67      6000\n",
            "\n"
          ]
        }
      ]
    },
    {
      "cell_type": "markdown",
      "source": [
        "- Logistic Regression is trained on the resampled balanced training data.\n",
        "\n",
        "- Class_weight='balanced' adjusts weights inversely proportional to class frequencies to handle imbalance.\n",
        "\n",
        "- Predicts both class labels (y_pred_lr) and probabilities (y_proba_lr) for the test set."
      ],
      "metadata": {
        "id": "YZmgUI-C2ixj"
      }
    },
    {
      "cell_type": "markdown",
      "metadata": {
        "id": "0lnbgnfiOAuI"
      },
      "source": [
        " 2. Random Forest"
      ]
    },
    {
      "cell_type": "code",
      "execution_count": null,
      "metadata": {
        "id": "C6eEBRZO6GaB"
      },
      "outputs": [],
      "source": [
        "rf = RandomForestClassifier(class_weight='balanced', random_state=42)\n",
        "rf.fit(X_train_resampled, y_train_resampled)\n",
        "y_pred_rf = rf.predict(X_test_scaled)\n",
        "y_proba_rf = rf.predict_proba(X_test_scaled)[:, 1]"
      ]
    },
    {
      "cell_type": "code",
      "source": [
        "print(\"Random Forest Classification Report:\")\n",
        "print(classification_report(y_test, y_pred_rf))"
      ],
      "metadata": {
        "colab": {
          "base_uri": "https://localhost:8080/"
        },
        "id": "J_J86BZicsuB",
        "outputId": "77493923-ec5e-42aa-bb05-df4865c6641a"
      },
      "execution_count": null,
      "outputs": [
        {
          "output_type": "stream",
          "name": "stdout",
          "text": [
            "Random Forest Classification Report:\n",
            "              precision    recall  f1-score   support\n",
            "\n",
            "           0       0.86      0.86      0.86      4673\n",
            "           1       0.51      0.49      0.50      1327\n",
            "\n",
            "    accuracy                           0.78      6000\n",
            "   macro avg       0.68      0.68      0.68      6000\n",
            "weighted avg       0.78      0.78      0.78      6000\n",
            "\n"
          ]
        }
      ]
    },
    {
      "cell_type": "markdown",
      "source": [
        "- Random Forest classifier is trained similarly with class weighting and the same random seed.\n",
        "\n",
        "- Outputs predicted labels and probabilities on the test set."
      ],
      "metadata": {
        "id": "F916rG5U2o5q"
      }
    },
    {
      "cell_type": "markdown",
      "metadata": {
        "id": "NCsPQyQvOoWJ"
      },
      "source": [
        "3. SVM (Support Vector Machine – requires scaled data)"
      ]
    },
    {
      "cell_type": "code",
      "execution_count": null,
      "metadata": {
        "id": "LAIkq_sy6LQa"
      },
      "outputs": [],
      "source": [
        "svm = SVC(kernel='rbf', class_weight='balanced', probability=True, random_state=42)\n",
        "svm.fit(X_train_resampled, y_train_resampled)\n",
        "y_pred_svm = svm.predict(X_test_scaled)\n",
        "y_proba_svm = svm.predict_proba(X_test_scaled)[:, 1]"
      ]
    },
    {
      "cell_type": "code",
      "source": [
        "print(\"Support Vector Machine (SVM) Classification Report:\")\n",
        "print(classification_report(y_test, y_pred_svm))"
      ],
      "metadata": {
        "colab": {
          "base_uri": "https://localhost:8080/"
        },
        "id": "3E295iwNc0tJ",
        "outputId": "300d0f98-17ab-4a84-810e-77d56cc42382"
      },
      "execution_count": null,
      "outputs": [
        {
          "output_type": "stream",
          "name": "stdout",
          "text": [
            "Support Vector Machine (SVM) Classification Report:\n",
            "              precision    recall  f1-score   support\n",
            "\n",
            "           0       0.87      0.82      0.85      4673\n",
            "           1       0.48      0.57      0.52      1327\n",
            "\n",
            "    accuracy                           0.77      6000\n",
            "   macro avg       0.68      0.70      0.68      6000\n",
            "weighted avg       0.79      0.77      0.78      6000\n",
            "\n"
          ]
        }
      ]
    },
    {
      "cell_type": "markdown",
      "source": [
        "- SVM with RBF kernel is trained, requiring scaled input features.\n",
        "\n",
        "- Class weights balanced to handle class imbalance.\n",
        "\n",
        "- Enables probability estimates (probability=True).\n",
        "\n",
        "- Makes predictions and probability estimates on the test data."
      ],
      "metadata": {
        "id": "ioY64fVW2u_d"
      }
    },
    {
      "cell_type": "markdown",
      "metadata": {
        "id": "N0GKO9gQODr9"
      },
      "source": [
        "4. MLP – Deep Learning with Keras"
      ]
    },
    {
      "cell_type": "code",
      "execution_count": null,
      "metadata": {
        "colab": {
          "base_uri": "https://localhost:8080/"
        },
        "id": "WlR7w797Q4vS",
        "outputId": "cd973bec-e3ac-4d58-e45b-c550d664d16c"
      },
      "outputs": [
        {
          "output_type": "stream",
          "name": "stdout",
          "text": [
            "Epoch 1/30\n"
          ]
        },
        {
          "output_type": "stream",
          "name": "stderr",
          "text": [
            "/usr/local/lib/python3.11/dist-packages/keras/src/layers/core/dense.py:87: UserWarning: Do not pass an `input_shape`/`input_dim` argument to a layer. When using Sequential models, prefer using an `Input(shape)` object as the first layer in the model instead.\n",
            "  super().__init__(activity_regularizer=activity_regularizer, **kwargs)\n"
          ]
        },
        {
          "output_type": "stream",
          "name": "stdout",
          "text": [
            "\u001b[1m935/935\u001b[0m \u001b[32m━━━━━━━━━━━━━━━━━━━━\u001b[0m\u001b[37m\u001b[0m \u001b[1m5s\u001b[0m 4ms/step - accuracy: 0.7176 - loss: 0.5858 - val_accuracy: 0.4938 - val_loss: 0.7943\n",
            "Epoch 2/30\n",
            "\u001b[1m935/935\u001b[0m \u001b[32m━━━━━━━━━━━━━━━━━━━━\u001b[0m\u001b[37m\u001b[0m \u001b[1m2s\u001b[0m 3ms/step - accuracy: 0.7433 - loss: 0.5431 - val_accuracy: 0.5320 - val_loss: 0.8278\n",
            "Epoch 3/30\n",
            "\u001b[1m935/935\u001b[0m \u001b[32m━━━━━━━━━━━━━━━━━━━━\u001b[0m\u001b[37m\u001b[0m \u001b[1m3s\u001b[0m 3ms/step - accuracy: 0.7454 - loss: 0.5352 - val_accuracy: 0.5354 - val_loss: 0.8008\n",
            "Epoch 4/30\n",
            "\u001b[1m935/935\u001b[0m \u001b[32m━━━━━━━━━━━━━━━━━━━━\u001b[0m\u001b[37m\u001b[0m \u001b[1m7s\u001b[0m 5ms/step - accuracy: 0.7468 - loss: 0.5339 - val_accuracy: 0.5282 - val_loss: 0.8072\n",
            "Epoch 5/30\n",
            "\u001b[1m935/935\u001b[0m \u001b[32m━━━━━━━━━━━━━━━━━━━━\u001b[0m\u001b[37m\u001b[0m \u001b[1m3s\u001b[0m 3ms/step - accuracy: 0.7469 - loss: 0.5338 - val_accuracy: 0.5627 - val_loss: 0.7478\n",
            "Epoch 6/30\n",
            "\u001b[1m935/935\u001b[0m \u001b[32m━━━━━━━━━━━━━━━━━━━━\u001b[0m\u001b[37m\u001b[0m \u001b[1m3s\u001b[0m 3ms/step - accuracy: 0.7499 - loss: 0.5271 - val_accuracy: 0.5354 - val_loss: 0.7717\n",
            "Epoch 7/30\n",
            "\u001b[1m935/935\u001b[0m \u001b[32m━━━━━━━━━━━━━━━━━━━━\u001b[0m\u001b[37m\u001b[0m \u001b[1m6s\u001b[0m 4ms/step - accuracy: 0.7492 - loss: 0.5289 - val_accuracy: 0.4947 - val_loss: 0.8219\n",
            "Epoch 8/30\n",
            "\u001b[1m935/935\u001b[0m \u001b[32m━━━━━━━━━━━━━━━━━━━━\u001b[0m\u001b[37m\u001b[0m \u001b[1m3s\u001b[0m 3ms/step - accuracy: 0.7498 - loss: 0.5260 - val_accuracy: 0.5516 - val_loss: 0.7578\n",
            "Epoch 9/30\n",
            "\u001b[1m935/935\u001b[0m \u001b[32m━━━━━━━━━━━━━━━━━━━━\u001b[0m\u001b[37m\u001b[0m \u001b[1m5s\u001b[0m 3ms/step - accuracy: 0.7484 - loss: 0.5267 - val_accuracy: 0.5085 - val_loss: 0.7989\n",
            "Epoch 10/30\n",
            "\u001b[1m935/935\u001b[0m \u001b[32m━━━━━━━━━━━━━━━━━━━━\u001b[0m\u001b[37m\u001b[0m \u001b[1m6s\u001b[0m 4ms/step - accuracy: 0.7527 - loss: 0.5228 - val_accuracy: 0.5481 - val_loss: 0.7620\n",
            "Epoch 11/30\n",
            "\u001b[1m935/935\u001b[0m \u001b[32m━━━━━━━━━━━━━━━━━━━━\u001b[0m\u001b[37m\u001b[0m \u001b[1m3s\u001b[0m 3ms/step - accuracy: 0.7478 - loss: 0.5262 - val_accuracy: 0.5306 - val_loss: 0.7464\n",
            "Epoch 12/30\n",
            "\u001b[1m935/935\u001b[0m \u001b[32m━━━━━━━━━━━━━━━━━━━━\u001b[0m\u001b[37m\u001b[0m \u001b[1m5s\u001b[0m 3ms/step - accuracy: 0.7530 - loss: 0.5209 - val_accuracy: 0.5006 - val_loss: 0.8015\n",
            "Epoch 13/30\n",
            "\u001b[1m935/935\u001b[0m \u001b[32m━━━━━━━━━━━━━━━━━━━━\u001b[0m\u001b[37m\u001b[0m \u001b[1m4s\u001b[0m 4ms/step - accuracy: 0.7579 - loss: 0.5104 - val_accuracy: 0.5871 - val_loss: 0.6860\n",
            "Epoch 14/30\n",
            "\u001b[1m935/935\u001b[0m \u001b[32m━━━━━━━━━━━━━━━━━━━━\u001b[0m\u001b[37m\u001b[0m \u001b[1m5s\u001b[0m 4ms/step - accuracy: 0.7518 - loss: 0.5175 - val_accuracy: 0.5443 - val_loss: 0.7715\n",
            "Epoch 15/30\n",
            "\u001b[1m935/935\u001b[0m \u001b[32m━━━━━━━━━━━━━━━━━━━━\u001b[0m\u001b[37m\u001b[0m \u001b[1m4s\u001b[0m 3ms/step - accuracy: 0.7566 - loss: 0.5142 - val_accuracy: 0.5629 - val_loss: 0.7281\n",
            "Epoch 16/30\n",
            "\u001b[1m935/935\u001b[0m \u001b[32m━━━━━━━━━━━━━━━━━━━━\u001b[0m\u001b[37m\u001b[0m \u001b[1m5s\u001b[0m 3ms/step - accuracy: 0.7554 - loss: 0.5142 - val_accuracy: 0.5390 - val_loss: 0.7395\n",
            "Epoch 17/30\n",
            "\u001b[1m935/935\u001b[0m \u001b[32m━━━━━━━━━━━━━━━━━━━━\u001b[0m\u001b[37m\u001b[0m \u001b[1m5s\u001b[0m 3ms/step - accuracy: 0.7549 - loss: 0.5099 - val_accuracy: 0.5237 - val_loss: 0.8199\n",
            "Epoch 18/30\n",
            "\u001b[1m935/935\u001b[0m \u001b[32m━━━━━━━━━━━━━━━━━━━━\u001b[0m\u001b[37m\u001b[0m \u001b[1m3s\u001b[0m 3ms/step - accuracy: 0.7567 - loss: 0.5109 - val_accuracy: 0.5493 - val_loss: 0.8139\n",
            "Epoch 19/30\n",
            "\u001b[1m935/935\u001b[0m \u001b[32m━━━━━━━━━━━━━━━━━━━━\u001b[0m\u001b[37m\u001b[0m \u001b[1m5s\u001b[0m 3ms/step - accuracy: 0.7509 - loss: 0.5141 - val_accuracy: 0.5221 - val_loss: 0.7706\n",
            "Epoch 20/30\n",
            "\u001b[1m935/935\u001b[0m \u001b[32m━━━━━━━━━━━━━━━━━━━━\u001b[0m\u001b[37m\u001b[0m \u001b[1m3s\u001b[0m 3ms/step - accuracy: 0.7555 - loss: 0.5108 - val_accuracy: 0.5211 - val_loss: 0.7761\n",
            "Epoch 21/30\n",
            "\u001b[1m935/935\u001b[0m \u001b[32m━━━━━━━━━━━━━━━━━━━━\u001b[0m\u001b[37m\u001b[0m \u001b[1m3s\u001b[0m 3ms/step - accuracy: 0.7570 - loss: 0.5087 - val_accuracy: 0.5489 - val_loss: 0.7477\n",
            "Epoch 22/30\n",
            "\u001b[1m935/935\u001b[0m \u001b[32m━━━━━━━━━━━━━━━━━━━━\u001b[0m\u001b[37m\u001b[0m \u001b[1m4s\u001b[0m 4ms/step - accuracy: 0.7570 - loss: 0.5090 - val_accuracy: 0.5419 - val_loss: 0.7213\n",
            "Epoch 23/30\n",
            "\u001b[1m935/935\u001b[0m \u001b[32m━━━━━━━━━━━━━━━━━━━━\u001b[0m\u001b[37m\u001b[0m \u001b[1m3s\u001b[0m 3ms/step - accuracy: 0.7545 - loss: 0.5117 - val_accuracy: 0.5538 - val_loss: 0.7710\n",
            "Epoch 24/30\n",
            "\u001b[1m935/935\u001b[0m \u001b[32m━━━━━━━━━━━━━━━━━━━━\u001b[0m\u001b[37m\u001b[0m \u001b[1m4s\u001b[0m 4ms/step - accuracy: 0.7536 - loss: 0.5111 - val_accuracy: 0.5853 - val_loss: 0.6733\n",
            "Epoch 25/30\n",
            "\u001b[1m935/935\u001b[0m \u001b[32m━━━━━━━━━━━━━━━━━━━━\u001b[0m\u001b[37m\u001b[0m \u001b[1m10s\u001b[0m 10ms/step - accuracy: 0.7552 - loss: 0.5074 - val_accuracy: 0.5926 - val_loss: 0.6940\n",
            "Epoch 26/30\n",
            "\u001b[1m935/935\u001b[0m \u001b[32m━━━━━━━━━━━━━━━━━━━━\u001b[0m\u001b[37m\u001b[0m \u001b[1m9s\u001b[0m 8ms/step - accuracy: 0.7554 - loss: 0.5072 - val_accuracy: 0.5376 - val_loss: 0.7394\n",
            "Epoch 27/30\n",
            "\u001b[1m935/935\u001b[0m \u001b[32m━━━━━━━━━━━━━━━━━━━━\u001b[0m\u001b[37m\u001b[0m \u001b[1m3s\u001b[0m 3ms/step - accuracy: 0.7570 - loss: 0.5076 - val_accuracy: 0.5508 - val_loss: 0.7727\n",
            "Epoch 28/30\n",
            "\u001b[1m935/935\u001b[0m \u001b[32m━━━━━━━━━━━━━━━━━━━━\u001b[0m\u001b[37m\u001b[0m \u001b[1m3s\u001b[0m 3ms/step - accuracy: 0.7530 - loss: 0.5111 - val_accuracy: 0.5584 - val_loss: 0.7564\n",
            "Epoch 29/30\n",
            "\u001b[1m935/935\u001b[0m \u001b[32m━━━━━━━━━━━━━━━━━━━━\u001b[0m\u001b[37m\u001b[0m \u001b[1m6s\u001b[0m 3ms/step - accuracy: 0.7601 - loss: 0.5035 - val_accuracy: 0.5849 - val_loss: 0.6789\n",
            "Epoch 30/30\n",
            "\u001b[1m935/935\u001b[0m \u001b[32m━━━━━━━━━━━━━━━━━━━━\u001b[0m\u001b[37m\u001b[0m \u001b[1m4s\u001b[0m 3ms/step - accuracy: 0.7590 - loss: 0.5040 - val_accuracy: 0.6112 - val_loss: 0.6414\n",
            "\u001b[1m188/188\u001b[0m \u001b[32m━━━━━━━━━━━━━━━━━━━━\u001b[0m\u001b[37m\u001b[0m \u001b[1m0s\u001b[0m 1ms/step\n"
          ]
        }
      ],
      "source": [
        "model = Sequential([\n",
        "    Dense(64, activation='relu', input_shape=(X_train_resampled.shape[1],)),\n",
        "    Dense(32, activation='relu'),\n",
        "    Dense(1, activation='sigmoid')\n",
        "])\n",
        "\n",
        "model.compile(optimizer=Adam(), loss='binary_crossentropy', metrics=['accuracy'])\n",
        "\n",
        "history = model.fit(X_train_resampled, y_train_resampled, epochs=30, batch_size=32, validation_split=0.2)\n",
        "\n",
        "y_proba_mlp = model.predict(X_test_scaled).ravel()\n",
        "y_pred_mlp = (y_proba_mlp > 0.5).astype(int)"
      ]
    },
    {
      "cell_type": "code",
      "source": [
        "print(\"MLP Neural Network Classification Report:\")\n",
        "print(classification_report(y_test, y_pred_mlp))"
      ],
      "metadata": {
        "colab": {
          "base_uri": "https://localhost:8080/"
        },
        "id": "z2tXhwGQfzeX",
        "outputId": "7abbb317-bdbd-4b92-cae8-43713d38ca0c"
      },
      "execution_count": null,
      "outputs": [
        {
          "output_type": "stream",
          "name": "stdout",
          "text": [
            "MLP Neural Network Classification Report:\n",
            "              precision    recall  f1-score   support\n",
            "\n",
            "           0       0.87      0.84      0.85      4673\n",
            "           1       0.49      0.55      0.52      1327\n",
            "\n",
            "    accuracy                           0.77      6000\n",
            "   macro avg       0.68      0.69      0.68      6000\n",
            "weighted avg       0.78      0.77      0.78      6000\n",
            "\n"
          ]
        }
      ]
    },
    {
      "cell_type": "markdown",
      "source": [
        "1. Built a Multilayer Perceptron (MLP) with:\n",
        "\n",
        "- Two hidden layers (64 and 32 neurons) using ReLU activation.\n",
        "\n",
        "- One output layer with sigmoid activation for binary classification.\n",
        "\n",
        "2. Compiled the model with:\n",
        "\n",
        "- Adam optimizer.\n",
        "\n",
        "- Binary cross-entropy loss function.\n",
        "\n",
        "- Accuracy as the evaluation metric.\n",
        "\n",
        "3. Trained the model on balanced, resampled training data for 30 epochs with:\n",
        "\n",
        "- Batch size of 32.\n",
        "\n",
        "- 20% of training data used for validation.\n",
        "\n",
        "4. Predicted default probabilities on the scaled test set and converted them to class labels using a 0.5 threshold."
      ],
      "metadata": {
        "id": "ry4iNSd13EIB"
      }
    },
    {
      "cell_type": "markdown",
      "metadata": {
        "id": "Q9d3_blaWesI"
      },
      "source": [
        "# **Evaluation**"
      ]
    },
    {
      "cell_type": "markdown",
      "metadata": {
        "id": "b7GuIYlFOJAT"
      },
      "source": [
        " 1. Evaluation for All Models"
      ]
    },
    {
      "cell_type": "code",
      "execution_count": null,
      "metadata": {
        "colab": {
          "base_uri": "https://localhost:8080/",
          "height": 211
        },
        "id": "hATzyCCIWkwe",
        "outputId": "b70c1532-b999-4e25-9525-4838a6d94885"
      },
      "outputs": [
        {
          "output_type": "error",
          "ename": "NameError",
          "evalue": "name 'y_pred_svm' is not defined",
          "traceback": [
            "\u001b[0;31m---------------------------------------------------------------------------\u001b[0m",
            "\u001b[0;31mNameError\u001b[0m                                 Traceback (most recent call last)",
            "\u001b[0;32m<ipython-input-31-878903aa4b96>\u001b[0m in \u001b[0;36m<cell line: 0>\u001b[0;34m()\u001b[0m\n\u001b[1;32m     14\u001b[0m \u001b[0mmetrics_lr\u001b[0m \u001b[0;34m=\u001b[0m \u001b[0mevaluate_model\u001b[0m\u001b[0;34m(\u001b[0m\u001b[0my_test\u001b[0m\u001b[0;34m,\u001b[0m \u001b[0my_pred_lr\u001b[0m\u001b[0;34m,\u001b[0m \u001b[0my_proba_lr\u001b[0m\u001b[0;34m)\u001b[0m\u001b[0;34m\u001b[0m\u001b[0;34m\u001b[0m\u001b[0m\n\u001b[1;32m     15\u001b[0m \u001b[0mmetrics_rf\u001b[0m \u001b[0;34m=\u001b[0m \u001b[0mevaluate_model\u001b[0m\u001b[0;34m(\u001b[0m\u001b[0my_test\u001b[0m\u001b[0;34m,\u001b[0m \u001b[0my_pred_rf\u001b[0m\u001b[0;34m,\u001b[0m \u001b[0my_proba_rf\u001b[0m\u001b[0;34m)\u001b[0m\u001b[0;34m\u001b[0m\u001b[0;34m\u001b[0m\u001b[0m\n\u001b[0;32m---> 16\u001b[0;31m \u001b[0mmetrics_svm\u001b[0m \u001b[0;34m=\u001b[0m \u001b[0mevaluate_model\u001b[0m\u001b[0;34m(\u001b[0m\u001b[0my_test\u001b[0m\u001b[0;34m,\u001b[0m \u001b[0my_pred_svm\u001b[0m\u001b[0;34m,\u001b[0m \u001b[0my_proba_svm\u001b[0m\u001b[0;34m)\u001b[0m\u001b[0;34m\u001b[0m\u001b[0;34m\u001b[0m\u001b[0m\n\u001b[0m\u001b[1;32m     17\u001b[0m \u001b[0mmetrics_nn\u001b[0m \u001b[0;34m=\u001b[0m \u001b[0mevaluate_model\u001b[0m\u001b[0;34m(\u001b[0m\u001b[0my_test\u001b[0m\u001b[0;34m,\u001b[0m \u001b[0my_pred_mlp\u001b[0m\u001b[0;34m,\u001b[0m \u001b[0my_proba_mlp\u001b[0m\u001b[0;34m)\u001b[0m\u001b[0;34m\u001b[0m\u001b[0;34m\u001b[0m\u001b[0m\n\u001b[1;32m     18\u001b[0m \u001b[0;34m\u001b[0m\u001b[0m\n",
            "\u001b[0;31mNameError\u001b[0m: name 'y_pred_svm' is not defined"
          ]
        }
      ],
      "source": [
        "from sklearn.metrics import confusion_matrix, accuracy_score, precision_score, recall_score, f1_score, roc_auc_score\n",
        "\n",
        "# Function to evaluate a model's performance\n",
        "def evaluate_model(y_true, y_pred, y_proba):\n",
        "    cm = confusion_matrix(y_true, y_pred)\n",
        "    accuracy = accuracy_score(y_true, y_pred)\n",
        "    precision = precision_score(y_true, y_pred)\n",
        "    recall = recall_score(y_true, y_pred)\n",
        "    f1 = f1_score(y_true, y_pred)\n",
        "    roc_auc = roc_auc_score(y_true, y_proba)\n",
        "    return cm, accuracy, precision, recall, f1, roc_auc\n",
        "\n",
        "# Evaluate models\n",
        "metrics_lr = evaluate_model(y_test, y_pred_lr, y_proba_lr)\n",
        "metrics_rf = evaluate_model(y_test, y_pred_rf, y_proba_rf)\n",
        "metrics_svm = evaluate_model(y_test, y_pred_svm, y_proba_svm)\n",
        "metrics_nn = evaluate_model(y_test, y_pred_mlp, y_proba_mlp)\n",
        "\n",
        "models = ['Logistic Regression', 'Random Forest', 'SVM', 'Neural Network']\n",
        "metrics_list = [metrics_lr, metrics_rf, metrics_svm, metrics_nn]\n",
        "\n",
        "# Create list of dictionaries instead of using append\n",
        "records = []\n",
        "for model_name, metrics in zip(models, metrics_list):\n",
        "    cm, accuracy, precision, recall, f1, roc_auc = metrics\n",
        "    records.append({\n",
        "        'Model': model_name,\n",
        "        'Accuracy': round(accuracy, 4),\n",
        "        'Precision': round(precision, 4),\n",
        "        'Recall': round(recall, 4),\n",
        "        'F1-score': round(f1, 4),\n",
        "        'ROC-AUC': round(roc_auc, 4),\n",
        "    })\n",
        "\n",
        "df_metrics = pd.DataFrame(records)\n",
        "\n",
        "# Display the result dataframe\n",
        "df_metrics"
      ]
    },
    {
      "cell_type": "markdown",
      "source": [
        "- Random Forest has the highest accuracy (78.18%), meaning it correctly predicts most cases.\n",
        "\n",
        "- Neural Network has the best ROC-AUC (0.7583), indicating it’s best at ranking positive vs negative cases.\n",
        "\n",
        "- SVM shows a good balance of recall (57.12%) and F1-score (0.5222), which measures overall accuracy considering class imbalance.\n",
        "\n",
        "- Logistic Regression performs the worst overall, with the lowest precision and F1-score, suggesting it struggles with false positives.\n",
        "\n",
        "Neural Network is the best overall choice here, especially if you care about distinguishing defaults correctly and balancing false positives/negatives."
      ],
      "metadata": {
        "id": "2Itm7sn53ueM"
      }
    },
    {
      "cell_type": "code",
      "execution_count": null,
      "metadata": {
        "colab": {
          "background_save": true
        },
        "id": "eUcg-eU7VP20"
      },
      "outputs": [],
      "source": [
        "import matplotlib.pyplot as plt\n",
        "import seaborn as sns\n",
        "from sklearn.metrics import confusion_matrix\n",
        "\n",
        "def plot_confusion_matrix(y_true, y_pred, model_name):\n",
        "    cm = confusion_matrix(y_true, y_pred)\n",
        "    plt.figure(figsize=(5,4))\n",
        "    sns.heatmap(cm, annot=True, fmt='d', cmap='Blues', cbar=False)\n",
        "    plt.title(f'Confusion Matrix - {model_name}')\n",
        "    plt.xlabel('Predicted Label')\n",
        "    plt.ylabel('True Label')\n",
        "    plt.show()\n",
        "\n",
        "# Plots for each model:\n",
        "plot_confusion_matrix(y_test, y_pred_lr, 'Logistic Regression')\n",
        "plot_confusion_matrix(y_test, y_pred_rf, 'Random Forest')\n",
        "plot_confusion_matrix(y_test, y_pred_svm, 'SVM')\n",
        "plot_confusion_matrix(y_test, y_pred_mlp, 'Neural Network')"
      ]
    },
    {
      "cell_type": "markdown",
      "source": [
        "- Neural Network has the highest TP and a good balance of FP and FN, meaning it correctly identifies more defaulters while keeping false alarms moderate.\n",
        "\n",
        "- SVM has slightly fewer TN but more TP than Random Forest and Neural Network, showing better detection of positives but more false alarms.\n",
        "\n",
        "- Random Forest has the highest TN and lowest FP, which means fewer false positives but it misses more defaulters (higher FN).\n",
        "\n",
        "- Logistic Regression has the lowest TN and highest FP, meaning it predicts more false positives but has relatively high TP (correct defaulter detection)."
      ],
      "metadata": {
        "id": "aqInGvEJ4_-1"
      }
    },
    {
      "cell_type": "code",
      "execution_count": null,
      "metadata": {
        "colab": {
          "background_save": true
        },
        "id": "RHm4tLnj7fAx"
      },
      "outputs": [],
      "source": [
        "from sklearn.metrics import roc_curve\n",
        "import matplotlib.pyplot as plt\n",
        "\n",
        "# Compute FPR and TPR for each model (replace y_test and y_proba with your variables)\n",
        "fpr_lr, tpr_lr, _ = roc_curve(y_test, y_proba_lr)\n",
        "fpr_rf, tpr_rf, _ = roc_curve(y_test, y_proba_rf)\n",
        "fpr_svm, tpr_svm, _ = roc_curve(y_test, y_proba_svm)\n",
        "fpr_nn, tpr_nn, _ = roc_curve(y_test, y_proba_mlp)\n",
        "\n",
        "# Plot ROC Curves\n",
        "plt.plot(fpr_lr, tpr_lr, label='Logistic Regression')\n",
        "plt.plot(fpr_rf, tpr_rf, label='Random Forest')\n",
        "plt.plot(fpr_svm, tpr_svm, label='SVM')\n",
        "plt.plot(fpr_nn, tpr_nn, label='Neural Network')\n",
        "\n",
        "# Plot baseline (diagonal line for random guess)\n",
        "plt.plot([0, 1], [0, 1], 'k--')\n",
        "\n",
        "plt.xlabel('False Positive Rate')\n",
        "plt.ylabel('True Positive Rate (Recall)')\n",
        "plt.title('ROC Curve Comparison')\n",
        "plt.legend()\n",
        "plt.show()"
      ]
    },
    {
      "cell_type": "markdown",
      "source": [
        "- Neural Network and SVM perform best for predicting credit default.\n",
        "\n",
        "-Having the highest ROC-AUC scores:\n",
        "\n",
        "Neural Network: 0.7583\n",
        "\n",
        "SVM: 0.7469\n",
        "\n",
        "Their F1-scores are also the highest:\n",
        "\n",
        "Neural Network: 0.5245\n",
        "\n",
        "SVM: 0.5222\n",
        "\n",
        "- - The ROC curve shows their curves are closest to the top-left, meaning better true positive vs false positive trade-off.\n",
        "\n",
        "The confusion matrix of Neural Network shows a good balance between correctly predicting defaults (733 true positives) and limiting false alarms (735 false positives)."
      ],
      "metadata": {
        "id": "OZ8W6gt15oIC"
      }
    },
    {
      "cell_type": "code",
      "execution_count": null,
      "metadata": {
        "id": "B1_PircS9GBm"
      },
      "outputs": [],
      "source": [
        "from keras.saving import save_model\n",
        "save_model(model, 'model.keras')"
      ]
    },
    {
      "cell_type": "code",
      "source": [
        "pip install flask"
      ],
      "metadata": {
        "id": "YKSjVSo08zKv",
        "colab": {
          "base_uri": "https://localhost:8080/"
        },
        "outputId": "bc446dac-e4d7-4891-9622-0e7331152399"
      },
      "execution_count": null,
      "outputs": [
        {
          "output_type": "stream",
          "name": "stdout",
          "text": [
            "Requirement already satisfied: flask in /usr/local/lib/python3.11/dist-packages (3.1.1)\n",
            "Requirement already satisfied: blinker>=1.9.0 in /usr/local/lib/python3.11/dist-packages (from flask) (1.9.0)\n",
            "Requirement already satisfied: click>=8.1.3 in /usr/local/lib/python3.11/dist-packages (from flask) (8.2.1)\n",
            "Requirement already satisfied: itsdangerous>=2.2.0 in /usr/local/lib/python3.11/dist-packages (from flask) (2.2.0)\n",
            "Requirement already satisfied: jinja2>=3.1.2 in /usr/local/lib/python3.11/dist-packages (from flask) (3.1.6)\n",
            "Requirement already satisfied: markupsafe>=2.1.1 in /usr/local/lib/python3.11/dist-packages (from flask) (3.0.2)\n",
            "Requirement already satisfied: werkzeug>=3.1.0 in /usr/local/lib/python3.11/dist-packages (from flask) (3.1.3)\n"
          ]
        }
      ]
    },
    {
      "cell_type": "code",
      "source": [
        "!python app.py"
      ],
      "metadata": {
        "id": "n7c90iqy-W-z",
        "colab": {
          "base_uri": "https://localhost:8080/"
        },
        "outputId": "9981f541-b7ae-4794-d1b2-032f17968e7d"
      },
      "execution_count": null,
      "outputs": [
        {
          "output_type": "stream",
          "name": "stdout",
          "text": [
            "python3: can't open file '/content/app.py': [Errno 2] No such file or directory\n"
          ]
        }
      ]
    },
    {
      "cell_type": "markdown",
      "source": [
        "# Test Model\n"
      ],
      "metadata": {
        "id": "fxc1ypJ3269m"
      }
    },
    {
      "cell_type": "code",
      "source": [
        "def predict_new_client(input_dict, model, scaler):\n",
        "    import pandas as pd\n",
        "    import numpy as np\n",
        "\n",
        "    # Danh sách đúng các biến đã train model\n",
        "    selected_features = [\n",
        "        'LIMIT_BAL', 'PAY_0', 'PAY_2', 'PAY_3', 'PAY_4', 'PAY_5', 'PAY_6',\n",
        "        'PAY_AMT1', 'PAY_AMT2', 'PAY_AMT3', 'PAY_AMT4', 'PAY_AMT5', 'PAY_AMT6',\n",
        "        'TOTAL_PAY', 'EDUCATION_4'\n",
        "    ]\n",
        "\n",
        "    # Convert input dict to DataFrame\n",
        "    input_df = pd.DataFrame([input_dict])\n",
        "    input_df = input_df[selected_features]\n",
        "\n",
        "    # Scale\n",
        "    input_scaled = scaler.transform(input_df)\n",
        "\n",
        "    # Predict\n",
        "    proba = model.predict(input_scaled).ravel()[0]\n",
        "    result = \"CÓ KHẢ NĂNG VỠ NỢ\" if proba > 0.5 else \"KHÔNG VỠ NỢ\"\n",
        "\n",
        "    return {\n",
        "        \"Xác suất vỡ nợ (%)\": round(proba * 100, 2),\n",
        "        \"Kết luận\": result\n",
        "    }"
      ],
      "metadata": {
        "id": "1-esLYlP3ujc"
      },
      "execution_count": null,
      "outputs": []
    },
    {
      "cell_type": "code",
      "source": [
        "def manual_input():\n",
        "    print(\"📌 ENTER CUSTOMER INFORMATION\")\n",
        "    name = input(\"Customer name: \")\n",
        "\n",
        "    input_dict = {}\n",
        "    input_dict['LIMIT_BAL'] = float(input(\"LIMIT_BAL (credit limit): \"))\n",
        "    input_dict['PAY_0'] = int(input(\"PAY_0 (payment status - most recent month): \"))\n",
        "    input_dict['PAY_2'] = int(input(\"PAY_2 (payment status - 2nd month ago): \"))\n",
        "    input_dict['PAY_3'] = int(input(\"PAY_3: \"))\n",
        "    input_dict['PAY_4'] = int(input(\"PAY_4: \"))\n",
        "    input_dict['PAY_5'] = int(input(\"PAY_5: \"))\n",
        "    input_dict['PAY_6'] = int(input(\"PAY_6: \"))\n",
        "\n",
        "    input_dict['PAY_AMT1'] = float(input(\"PAY_AMT1 (payment amount in 1st month): \"))\n",
        "    input_dict['PAY_AMT2'] = float(input(\"PAY_AMT2: \"))\n",
        "    input_dict['PAY_AMT3'] = float(input(\"PAY_AMT3: \"))\n",
        "    input_dict['PAY_AMT4'] = float(input(\"PAY_AMT4: \"))\n",
        "    input_dict['PAY_AMT5'] = float(input(\"PAY_AMT5: \"))\n",
        "    input_dict['PAY_AMT6'] = float(input(\"PAY_AMT6: \"))\n",
        "\n",
        "    input_dict['TOTAL_PAY'] = float(input(\"TOTAL_PAY (total amount paid): \"))\n",
        "    input_dict['EDUCATION_4'] = int(input(\"EDUCATION_4 (0 or 1): \"))\n",
        "\n",
        "    return name, input_dict"
      ],
      "metadata": {
        "id": "GbHVK5Jg4EP7"
      },
      "execution_count": null,
      "outputs": []
    },
    {
      "cell_type": "code",
      "source": [
        "name, customer_data = manual_input()\n",
        "result = predict_new_client(customer_data, model, scaler)\n",
        "\n",
        "print(f\"\\n Prediction Result for **{name}**:\")\n",
        "print(f\"→ Default probability: {result['Xác suất vỡ nợ (%)']}%\")\n",
        "print(f\"→ Conclusion: {result['Kết luận']}\")000"
      ],
      "metadata": {
        "colab": {
          "base_uri": "https://localhost:8080/"
        },
        "id": "yWhXW0bh4FZT",
        "outputId": "18036fc9-e8d6-439c-a8a1-3036bdacc4c3"
      },
      "execution_count": null,
      "outputs": [
        {
          "output_type": "stream",
          "name": "stdout",
          "text": [
            "📌 ENTER CUSTOMER INFORMATION\n",
            "Customer name: Tuệ\n",
            "LIMIT_BAL (credit limit): 20000000\n",
            "PAY_0 (payment status - most recent month): 0\n",
            "PAY_2 (payment status - 2nd month ago): 0\n",
            "PAY_3: 0\n",
            "PAY_4: 0\n",
            "PAY_5: 00\n",
            "PAY_6: 000\n",
            "PAY_AMT1 (payment amount in 1st month): 15000000\n",
            "PAY_AMT2: 5000000\n",
            "PAY_AMT3: 0\n",
            "PAY_AMT4: 0\n",
            "PAY_AMT5: 0\n",
            "PAY_AMT6: 0\n",
            "TOTAL_PAY (total amount paid): 20000000\n",
            "EDUCATION_4 (0 or 1): 0\n",
            "\u001b[1m1/1\u001b[0m \u001b[32m━━━━━━━━━━━━━━━━━━━━\u001b[0m\u001b[37m\u001b[0m \u001b[1m0s\u001b[0m 45ms/step\n",
            "\n",
            "🎉 Prediction Result for **Tuệ**:\n",
            "→ Default probability: 0.0%\n",
            "→ Conclusion: KHÔNG VỠ NỢ\n"
          ]
        }
      ]
    },
    {
      "cell_type": "code",
      "source": [
        "customer_khanh = {\n",
        "    'LIMIT_BAL': 60000,\n",
        "    'PAY_0': 1, 'PAY_2': 2, 'PAY_3': 0, 'PAY_4': 0, 'PAY_5': -1, 'PAY_6': -1,\n",
        "    'PAY_AMT1': 5000, 'PAY_AMT2': 4000, 'PAY_AMT3': 3000,\n",
        "    'PAY_AMT4': 2000, 'PAY_AMT5': 5000, 'PAY_AMT6': 4000,\n",
        "    'TOTAL_PAY': 23000,\n",
        "    'EDUCATION_4': 0\n",
        "}"
      ],
      "metadata": {
        "id": "XNEiW20a8xCA"
      },
      "execution_count": null,
      "outputs": []
    },
    {
      "cell_type": "code",
      "source": [
        "predict_new_client(customer_khanh, model, scaler)"
      ],
      "metadata": {
        "id": "PYbYl9jX8x79",
        "outputId": "7facbe9a-ac53-4a15-9644-e231647a234c",
        "colab": {
          "base_uri": "https://localhost:8080/"
        }
      },
      "execution_count": null,
      "outputs": [
        {
          "output_type": "stream",
          "name": "stdout",
          "text": [
            "\u001b[1m1/1\u001b[0m \u001b[32m━━━━━━━━━━━━━━━━━━━━\u001b[0m\u001b[37m\u001b[0m \u001b[1m0s\u001b[0m 70ms/step\n"
          ]
        },
        {
          "output_type": "execute_result",
          "data": {
            "text/plain": [
              "{'Xác suất vỡ nợ (%)': np.float32(65.62), 'Kết luận': 'CÓ KHẢ NĂNG VỠ NỢ'}"
            ]
          },
          "metadata": {},
          "execution_count": 42
        }
      ]
    }
  ],
  "metadata": {
    "colab": {
      "provenance": [],
      "toc_visible": true
    },
    "kernelspec": {
      "display_name": "Python 3",
      "name": "python3"
    },
    "language_info": {
      "name": "python"
    }
  },
  "nbformat": 4,
  "nbformat_minor": 0
}